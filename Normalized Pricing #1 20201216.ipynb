{
 "cells": [
  {
   "cell_type": "markdown",
   "metadata": {},
   "source": [
    "### Normalized Pricing \n",
    "\n",
    "Looking into how to break down the price of products on a unit volume (liter) level to make comprehension of sales easier. "
   ]
  },
  {
   "cell_type": "code",
   "execution_count": 1,
   "metadata": {},
   "outputs": [],
   "source": [
    "import pandas as pd\n",
    "import numpy as np\n",
    "import matplotlib.pyplot as plt\n",
    "import warnings\n",
    "warnings.filterwarnings('ignore')\n",
    "pd.set_option('display.max_columns',95)\n",
    "pd.set_option('display.max_rows',None)\n",
    "import pickle\n",
    "import re\n",
    "import datetime\n",
    "import seaborn as sns"
   ]
  },
  {
   "cell_type": "code",
   "execution_count": 2,
   "metadata": {},
   "outputs": [],
   "source": [
    "# Opening the pickled file\n",
    "f = open('df5.pkl', 'rb')\n",
    "df5 = pickle.load(f)\n",
    "f.close()"
   ]
  },
  {
   "cell_type": "code",
   "execution_count": 3,
   "metadata": {
    "scrolled": false
   },
   "outputs": [
    {
     "data": {
      "text/plain": [
       "Index(['invoice/item_number', 'date', 'store_number', 'city', 'zip_code',\n",
       "       'county_number', 'county', 'item_number', 'item_description',\n",
       "       'state_bottle_cost', 'state_bottle_retail', 'bottles_sold',\n",
       "       'sale_dollars', 'volume_sold_liters', 'store_name', 'cat_name',\n",
       "       'open_store', 'store_type'],\n",
       "      dtype='object')"
      ]
     },
     "execution_count": 3,
     "metadata": {},
     "output_type": "execute_result"
    }
   ],
   "source": [
    "df5.columns"
   ]
  },
  {
   "cell_type": "code",
   "execution_count": null,
   "metadata": {},
   "outputs": [],
   "source": [
    "df5.info()"
   ]
  },
  {
   "cell_type": "code",
   "execution_count": null,
   "metadata": {},
   "outputs": [],
   "source": [
    "df5.isna().sum()"
   ]
  },
  {
   "cell_type": "code",
   "execution_count": 4,
   "metadata": {},
   "outputs": [],
   "source": [
    "df5['volume_sold_liters'] = df5['volume_sold_liters'].fillna(0.0)"
   ]
  },
  {
   "cell_type": "code",
   "execution_count": null,
   "metadata": {
    "scrolled": true
   },
   "outputs": [],
   "source": [
    "df5.isna().sum()"
   ]
  },
  {
   "cell_type": "code",
   "execution_count": null,
   "metadata": {},
   "outputs": [],
   "source": [
    "df5.info()"
   ]
  },
  {
   "cell_type": "code",
   "execution_count": 5,
   "metadata": {},
   "outputs": [],
   "source": [
    "df5['ppl'] = round((df5['sale_dollars']/df5['volume_sold_liters']), 2)"
   ]
  },
  {
   "cell_type": "code",
   "execution_count": 41,
   "metadata": {},
   "outputs": [],
   "source": [
    "# Grouping by quarter and sales\n",
    "# quarter = df5.groupby([pd.Grouper(key='date', freq='Q')])['sale_dollars'].sum().reset_index()\n",
    "# qtr = df5[['volume_sold_liters','sale_dollars','date']].groupby([pd.Grouper(key='date', freq='Q')])['sale_dollars'].sum().reset_index()\n",
    "qtr1 = df5.groupby([pd.Grouper(key='date')])['sale_dollars', 'volume_sold_liters'].sum().reset_index()"
   ]
  },
  {
   "cell_type": "code",
   "execution_count": null,
   "metadata": {},
   "outputs": [],
   "source": [
    "# Adding ppl which is price per liter to normalize sales from the effect of size/volume\n",
    "qtr1['ppl'] = round((qtr1['sale_dollars']/qtr1['volume_sold_liters']), 2)"
   ]
  },
  {
   "cell_type": "code",
   "execution_count": null,
   "metadata": {},
   "outputs": [],
   "source": [
    "qtr1.head()"
   ]
  },
  {
   "cell_type": "code",
   "execution_count": 6,
   "metadata": {},
   "outputs": [],
   "source": [
    "df5['year'] = pd.to_datetime(df5['date']).dt.year\n",
    "df5['quarter'] = pd.to_datetime(df5['date']).dt.quarter"
   ]
  },
  {
   "cell_type": "code",
   "execution_count": 42,
   "metadata": {},
   "outputs": [],
   "source": [
    "q = df5.groupby('quarter')['sale_dollars', 'volume_sold_liters'].sum().reset_index()"
   ]
  },
  {
   "cell_type": "code",
   "execution_count": 43,
   "metadata": {},
   "outputs": [],
   "source": [
    "q['ppl'] = round((q['sale_dollars']/q['volume_sold_liters']), 2)"
   ]
  },
  {
   "cell_type": "code",
   "execution_count": null,
   "metadata": {},
   "outputs": [],
   "source": [
    "q.head()"
   ]
  },
  {
   "cell_type": "code",
   "execution_count": null,
   "metadata": {},
   "outputs": [],
   "source": [
    "q.info()"
   ]
  },
  {
   "cell_type": "code",
   "execution_count": 44,
   "metadata": {},
   "outputs": [],
   "source": [
    "q['quarter'] = q['quarter'].astype('category')"
   ]
  },
  {
   "cell_type": "code",
   "execution_count": null,
   "metadata": {},
   "outputs": [],
   "source": [
    "q.info()"
   ]
  },
  {
   "cell_type": "code",
   "execution_count": 45,
   "metadata": {},
   "outputs": [],
   "source": [
    "# Renaming quarters from integers to descriptive seasons\n",
    "# q['quarter'] = q.replace({'quarter' : { '1' : 'spring', '2' : 'summer', '3' : 'fall','4':'winter' }})\n",
    "q['quarter'] = q['quarter'].replace(1, 'spring')\n",
    "q['quarter'] = q['quarter'].replace(2, 'summer')\n",
    "q['quarter'] = q['quarter'].replace(3, 'fall')\n",
    "q['quarter'] = q['quarter'].replace(4, 'winter')"
   ]
  },
  {
   "cell_type": "code",
   "execution_count": 46,
   "metadata": {},
   "outputs": [
    {
     "data": {
      "text/plain": [
       "Text(0, 0.5, 'price per liter $')"
      ]
     },
     "execution_count": 46,
     "metadata": {},
     "output_type": "execute_result"
    },
    {
     "data": {
      "image/png": "[encoded data removed]",
      "text/plain": [
       "<Figure size 720x432 with 1 Axes>"
      ]
     },
     "metadata": {
      "needs_background": "light"
     },
     "output_type": "display_data"
    }
   ],
   "source": [
    "fig, ax = plt.subplots(figsize =(10, 6))\n",
    "sns.lineplot(data = q, x = 'quarter', y = 'ppl')\n",
    "# plt.title('Seasonal Average Price Per Liter of Liquor Products')\n",
    "plt.ylabel('price per liter $')"
   ]
  },
  {
   "cell_type": "code",
   "execution_count": 47,
   "metadata": {},
   "outputs": [],
   "source": [
    "# Looking at price per liter by liquor category\n",
    "cat_ppl = df5.groupby('cat_name')['sale_dollars', 'volume_sold_liters'].sum().reset_index()"
   ]
  },
  {
   "cell_type": "code",
   "execution_count": 48,
   "metadata": {},
   "outputs": [],
   "source": [
    "cat_ppl['ppl'] = round((cat_ppl['sale_dollars']/cat_ppl['volume_sold_liters']), 2)"
   ]
  },
  {
   "cell_type": "code",
   "execution_count": 49,
   "metadata": {},
   "outputs": [
    {
     "data": {
      "text/html": [
       "<div>\n",
       "<style scoped>\n",
       "    .dataframe tbody tr th:only-of-type {\n",
       "        vertical-align: middle;\n",
       "    }\n",
       "\n",
       "    .dataframe tbody tr th {\n",
       "        vertical-align: top;\n",
       "    }\n",
       "\n",
       "    .dataframe thead th {\n",
       "        text-align: right;\n",
       "    }\n",
       "</style>\n",
       "<table border=\"1\" class=\"dataframe\">\n",
       "  <thead>\n",
       "    <tr style=\"text-align: right;\">\n",
       "      <th></th>\n",
       "      <th>cat_name</th>\n",
       "      <th>sale_dollars</th>\n",
       "      <th>volume_sold_liters</th>\n",
       "      <th>ppl</th>\n",
       "    </tr>\n",
       "  </thead>\n",
       "  <tbody>\n",
       "    <tr>\n",
       "      <th>0</th>\n",
       "      <td>accessories</td>\n",
       "      <td>3.797746e+07</td>\n",
       "      <td>1.495292e+06</td>\n",
       "      <td>25.40</td>\n",
       "    </tr>\n",
       "    <tr>\n",
       "      <th>1</th>\n",
       "      <td>brandy</td>\n",
       "      <td>1.227859e+08</td>\n",
       "      <td>5.436627e+06</td>\n",
       "      <td>22.58</td>\n",
       "    </tr>\n",
       "    <tr>\n",
       "      <th>11</th>\n",
       "      <td>tequila</td>\n",
       "      <td>1.592540e+08</td>\n",
       "      <td>7.063459e+06</td>\n",
       "      <td>22.55</td>\n",
       "    </tr>\n",
       "    <tr>\n",
       "      <th>3</th>\n",
       "      <td>cordials liqueurs</td>\n",
       "      <td>1.929175e+08</td>\n",
       "      <td>9.990832e+06</td>\n",
       "      <td>19.31</td>\n",
       "    </tr>\n",
       "    <tr>\n",
       "      <th>13</th>\n",
       "      <td>whiskey</td>\n",
       "      <td>9.843450e+08</td>\n",
       "      <td>5.588516e+07</td>\n",
       "      <td>17.61</td>\n",
       "    </tr>\n",
       "    <tr>\n",
       "      <th>6</th>\n",
       "      <td>grain alcohol</td>\n",
       "      <td>2.966947e+06</td>\n",
       "      <td>1.693023e+05</td>\n",
       "      <td>17.52</td>\n",
       "    </tr>\n",
       "    <tr>\n",
       "      <th>7</th>\n",
       "      <td>rum</td>\n",
       "      <td>3.301994e+08</td>\n",
       "      <td>2.305438e+07</td>\n",
       "      <td>14.32</td>\n",
       "    </tr>\n",
       "    <tr>\n",
       "      <th>5</th>\n",
       "      <td>gin</td>\n",
       "      <td>7.037371e+07</td>\n",
       "      <td>4.970598e+06</td>\n",
       "      <td>14.16</td>\n",
       "    </tr>\n",
       "    <tr>\n",
       "      <th>8</th>\n",
       "      <td>schnapps</td>\n",
       "      <td>9.289055e+07</td>\n",
       "      <td>6.671796e+06</td>\n",
       "      <td>13.92</td>\n",
       "    </tr>\n",
       "    <tr>\n",
       "      <th>9</th>\n",
       "      <td>special orders</td>\n",
       "      <td>8.442108e+06</td>\n",
       "      <td>6.446106e+05</td>\n",
       "      <td>13.10</td>\n",
       "    </tr>\n",
       "    <tr>\n",
       "      <th>12</th>\n",
       "      <td>vodka</td>\n",
       "      <td>6.500774e+08</td>\n",
       "      <td>5.503809e+07</td>\n",
       "      <td>11.81</td>\n",
       "    </tr>\n",
       "    <tr>\n",
       "      <th>10</th>\n",
       "      <td>spirits</td>\n",
       "      <td>2.070644e+07</td>\n",
       "      <td>1.766708e+06</td>\n",
       "      <td>11.72</td>\n",
       "    </tr>\n",
       "    <tr>\n",
       "      <th>4</th>\n",
       "      <td>egg nog</td>\n",
       "      <td>1.607026e+05</td>\n",
       "      <td>1.949250e+04</td>\n",
       "      <td>8.24</td>\n",
       "    </tr>\n",
       "    <tr>\n",
       "      <th>2</th>\n",
       "      <td>cocktails</td>\n",
       "      <td>4.840770e+07</td>\n",
       "      <td>6.576259e+06</td>\n",
       "      <td>7.36</td>\n",
       "    </tr>\n",
       "  </tbody>\n",
       "</table>\n",
       "</div>"
      ],
      "text/plain": [
       "             cat_name  sale_dollars  volume_sold_liters    ppl\n",
       "0         accessories  3.797746e+07        1.495292e+06  25.40\n",
       "1              brandy  1.227859e+08        5.436627e+06  22.58\n",
       "11            tequila  1.592540e+08        7.063459e+06  22.55\n",
       "3   cordials liqueurs  1.929175e+08        9.990832e+06  19.31\n",
       "13            whiskey  9.843450e+08        5.588516e+07  17.61\n",
       "6       grain alcohol  2.966947e+06        1.693023e+05  17.52\n",
       "7                 rum  3.301994e+08        2.305438e+07  14.32\n",
       "5                 gin  7.037371e+07        4.970598e+06  14.16\n",
       "8            schnapps  9.289055e+07        6.671796e+06  13.92\n",
       "9      special orders  8.442108e+06        6.446106e+05  13.10\n",
       "12              vodka  6.500774e+08        5.503809e+07  11.81\n",
       "10            spirits  2.070644e+07        1.766708e+06  11.72\n",
       "4             egg nog  1.607026e+05        1.949250e+04   8.24\n",
       "2           cocktails  4.840770e+07        6.576259e+06   7.36"
      ]
     },
     "execution_count": 49,
     "metadata": {},
     "output_type": "execute_result"
    }
   ],
   "source": [
    "cat_ppl = cat_ppl.sort_values(by = 'ppl', ascending = False)\n",
    "cat_ppl"
   ]
  },
  {
   "cell_type": "code",
   "execution_count": 50,
   "metadata": {
    "scrolled": true
   },
   "outputs": [
    {
     "data": {
      "text/plain": [
       "Text(0, 0.5, 'category name')"
      ]
     },
     "execution_count": 50,
     "metadata": {},
     "output_type": "execute_result"
    },
    {
     "data": {
      "image/png": "[encoded data removed]",
      "text/plain": [
       "<Figure size 720x432 with 1 Axes>"
      ]
     },
     "metadata": {
      "needs_background": "light"
     },
     "output_type": "display_data"
    }
   ],
   "source": [
    "fig, ax = plt.subplots(figsize =(10, 6))\n",
    "sns.barplot(data = cat_ppl, x = 'ppl', y = 'cat_name')\n",
    "plt.title('Average Price Per Liter by Liquor Category')\n",
    "plt.xlabel('price per liter $')\n",
    "plt.ylabel('category name')"
   ]
  },
  {
   "cell_type": "code",
   "execution_count": null,
   "metadata": {},
   "outputs": [],
   "source": [
    "cat_ppl.to_csv('price_per_liter.csv')"
   ]
  },
  {
   "cell_type": "code",
   "execution_count": null,
   "metadata": {},
   "outputs": [],
   "source": [
    "cat_ppl.shape"
   ]
  },
  {
   "cell_type": "code",
   "execution_count": null,
   "metadata": {},
   "outputs": [],
   "source": [
    "cat_ppl.head()"
   ]
  },
  {
   "cell_type": "code",
   "execution_count": null,
   "metadata": {},
   "outputs": [],
   "source": [
    "df5.columns"
   ]
  },
  {
   "cell_type": "code",
   "execution_count": 8,
   "metadata": {},
   "outputs": [
    {
     "data": {
      "text/plain": [
       "(20095649, 21)"
      ]
     },
     "execution_count": 8,
     "metadata": {},
     "output_type": "execute_result"
    }
   ],
   "source": [
    "df5.shape"
   ]
  },
  {
   "cell_type": "code",
   "execution_count": null,
   "metadata": {},
   "outputs": [],
   "source": [
    "df5['ppl'] = round((df5['sale_dollars']/df5['volume_sold_liters']), 2)"
   ]
  },
  {
   "cell_type": "code",
   "execution_count": 7,
   "metadata": {},
   "outputs": [
    {
     "data": {
      "text/html": [
       "<div>\n",
       "<style scoped>\n",
       "    .dataframe tbody tr th:only-of-type {\n",
       "        vertical-align: middle;\n",
       "    }\n",
       "\n",
       "    .dataframe tbody tr th {\n",
       "        vertical-align: top;\n",
       "    }\n",
       "\n",
       "    .dataframe thead th {\n",
       "        text-align: right;\n",
       "    }\n",
       "</style>\n",
       "<table border=\"1\" class=\"dataframe\">\n",
       "  <thead>\n",
       "    <tr style=\"text-align: right;\">\n",
       "      <th></th>\n",
       "      <th>invoice/item_number</th>\n",
       "      <th>date</th>\n",
       "      <th>store_number</th>\n",
       "      <th>city</th>\n",
       "      <th>zip_code</th>\n",
       "      <th>county_number</th>\n",
       "      <th>county</th>\n",
       "      <th>item_number</th>\n",
       "      <th>item_description</th>\n",
       "      <th>state_bottle_cost</th>\n",
       "      <th>state_bottle_retail</th>\n",
       "      <th>bottles_sold</th>\n",
       "      <th>sale_dollars</th>\n",
       "      <th>volume_sold_liters</th>\n",
       "      <th>store_name</th>\n",
       "      <th>cat_name</th>\n",
       "      <th>open_store</th>\n",
       "      <th>store_type</th>\n",
       "      <th>ppl</th>\n",
       "      <th>year</th>\n",
       "      <th>quarter</th>\n",
       "    </tr>\n",
       "  </thead>\n",
       "  <tbody>\n",
       "    <tr>\n",
       "      <th>0</th>\n",
       "      <td>S04763500007</td>\n",
       "      <td>2012-03-27</td>\n",
       "      <td>2534</td>\n",
       "      <td>urbandale</td>\n",
       "      <td>50322</td>\n",
       "      <td>77.0</td>\n",
       "      <td>Polk</td>\n",
       "      <td>11788</td>\n",
       "      <td>black velvet</td>\n",
       "      <td>NaN</td>\n",
       "      <td>NaN</td>\n",
       "      <td>6.0</td>\n",
       "      <td>94.02</td>\n",
       "      <td>10.50</td>\n",
       "      <td>hy-vee drugtown / urbandale</td>\n",
       "      <td>whiskey</td>\n",
       "      <td>closed</td>\n",
       "      <td>supermarket</td>\n",
       "      <td>8.95</td>\n",
       "      <td>2012</td>\n",
       "      <td>1</td>\n",
       "    </tr>\n",
       "    <tr>\n",
       "      <th>1</th>\n",
       "      <td>S27474100012</td>\n",
       "      <td>2015-08-25</td>\n",
       "      <td>4924</td>\n",
       "      <td>nashua</td>\n",
       "      <td>50658</td>\n",
       "      <td>19.0</td>\n",
       "      <td>Chickasaw</td>\n",
       "      <td>89194</td>\n",
       "      <td>jose cuervo especial reposado flask</td>\n",
       "      <td>NaN</td>\n",
       "      <td>NaN</td>\n",
       "      <td>4.0</td>\n",
       "      <td>33.00</td>\n",
       "      <td>1.50</td>\n",
       "      <td>abby lea's</td>\n",
       "      <td>tequila</td>\n",
       "      <td>closed</td>\n",
       "      <td>retail store</td>\n",
       "      <td>22.00</td>\n",
       "      <td>2015</td>\n",
       "      <td>3</td>\n",
       "    </tr>\n",
       "    <tr>\n",
       "      <th>2</th>\n",
       "      <td>S10731000040</td>\n",
       "      <td>2013-02-21</td>\n",
       "      <td>4652</td>\n",
       "      <td>davenport</td>\n",
       "      <td>52803</td>\n",
       "      <td>82.0</td>\n",
       "      <td>Scott</td>\n",
       "      <td>34449</td>\n",
       "      <td>ketel one citroen</td>\n",
       "      <td>NaN</td>\n",
       "      <td>NaN</td>\n",
       "      <td>2.0</td>\n",
       "      <td>40.48</td>\n",
       "      <td>1.50</td>\n",
       "      <td>brady mart food &amp; liquor</td>\n",
       "      <td>vodka</td>\n",
       "      <td>open</td>\n",
       "      <td>convenience store</td>\n",
       "      <td>26.99</td>\n",
       "      <td>2013</td>\n",
       "      <td>1</td>\n",
       "    </tr>\n",
       "    <tr>\n",
       "      <th>3</th>\n",
       "      <td>S17037900080</td>\n",
       "      <td>2014-01-27</td>\n",
       "      <td>4794</td>\n",
       "      <td>burlington</td>\n",
       "      <td>52601</td>\n",
       "      <td>29.0</td>\n",
       "      <td>Des Moines</td>\n",
       "      <td>32236</td>\n",
       "      <td>seagrams extra dry gin</td>\n",
       "      <td>NaN</td>\n",
       "      <td>NaN</td>\n",
       "      <td>1.0</td>\n",
       "      <td>8.99</td>\n",
       "      <td>0.75</td>\n",
       "      <td>smokin' joe's #17 tobacco and liquor outlet</td>\n",
       "      <td>gin</td>\n",
       "      <td>open</td>\n",
       "      <td>retail store</td>\n",
       "      <td>11.99</td>\n",
       "      <td>2014</td>\n",
       "      <td>1</td>\n",
       "    </tr>\n",
       "    <tr>\n",
       "      <th>4</th>\n",
       "      <td>S14396900023</td>\n",
       "      <td>2013-09-09</td>\n",
       "      <td>2647</td>\n",
       "      <td>cedar rapids</td>\n",
       "      <td>52411</td>\n",
       "      <td>57.0</td>\n",
       "      <td>Linn</td>\n",
       "      <td>13038</td>\n",
       "      <td>canadian reserve whisky</td>\n",
       "      <td>NaN</td>\n",
       "      <td>NaN</td>\n",
       "      <td>6.0</td>\n",
       "      <td>80.94</td>\n",
       "      <td>10.50</td>\n",
       "      <td>hy-vee #7 / edgewood cedar rapids</td>\n",
       "      <td>whiskey</td>\n",
       "      <td>open</td>\n",
       "      <td>supermarket</td>\n",
       "      <td>7.71</td>\n",
       "      <td>2013</td>\n",
       "      <td>3</td>\n",
       "    </tr>\n",
       "  </tbody>\n",
       "</table>\n",
       "</div>"
      ],
      "text/plain": [
       "  invoice/item_number       date  store_number          city zip_code  \\\n",
       "0        S04763500007 2012-03-27          2534     urbandale    50322   \n",
       "1        S27474100012 2015-08-25          4924        nashua    50658   \n",
       "2        S10731000040 2013-02-21          4652     davenport    52803   \n",
       "3        S17037900080 2014-01-27          4794    burlington    52601   \n",
       "4        S14396900023 2013-09-09          2647  cedar rapids    52411   \n",
       "\n",
       "   county_number      county item_number                     item_description  \\\n",
       "0           77.0        Polk       11788                         black velvet   \n",
       "1           19.0   Chickasaw       89194  jose cuervo especial reposado flask   \n",
       "2           82.0       Scott       34449                    ketel one citroen   \n",
       "3           29.0  Des Moines       32236               seagrams extra dry gin   \n",
       "4           57.0        Linn       13038              canadian reserve whisky   \n",
       "\n",
       "   state_bottle_cost  state_bottle_retail  bottles_sold  sale_dollars  \\\n",
       "0                NaN                  NaN           6.0         94.02   \n",
       "1                NaN                  NaN           4.0         33.00   \n",
       "2                NaN                  NaN           2.0         40.48   \n",
       "3                NaN                  NaN           1.0          8.99   \n",
       "4                NaN                  NaN           6.0         80.94   \n",
       "\n",
       "   volume_sold_liters                                   store_name cat_name  \\\n",
       "0               10.50                  hy-vee drugtown / urbandale  whiskey   \n",
       "1                1.50                                   abby lea's  tequila   \n",
       "2                1.50                     brady mart food & liquor    vodka   \n",
       "3                0.75  smokin' joe's #17 tobacco and liquor outlet      gin   \n",
       "4               10.50            hy-vee #7 / edgewood cedar rapids  whiskey   \n",
       "\n",
       "  open_store         store_type    ppl  year  quarter  \n",
       "0     closed        supermarket   8.95  2012        1  \n",
       "1     closed       retail store  22.00  2015        3  \n",
       "2       open  convenience store  26.99  2013        1  \n",
       "3       open       retail store  11.99  2014        1  \n",
       "4       open        supermarket   7.71  2013        3  "
      ]
     },
     "execution_count": 7,
     "metadata": {},
     "output_type": "execute_result"
    }
   ],
   "source": [
    "df5.head()"
   ]
  },
  {
   "cell_type": "code",
   "execution_count": 10,
   "metadata": {},
   "outputs": [],
   "source": [
    "# Selecting some of the categories (not all)\n",
    "df5_box = df5[(df5['cat_name']=='whiskey')|(df5['cat_name']=='vodka')|(df5['cat_name']=='egg nog')|(df5['cat_name']=='tequila')|(df5['cat_name']=='rum')|(df5['cat_name']=='brandy')]"
   ]
  },
  {
   "cell_type": "code",
   "execution_count": 37,
   "metadata": {},
   "outputs": [],
   "source": [
    "df5_box = df5_box[(df5['ppl']<50)]"
   ]
  },
  {
   "cell_type": "code",
   "execution_count": null,
   "metadata": {},
   "outputs": [],
   "source": [
    "df5.shape"
   ]
  },
  {
   "cell_type": "code",
   "execution_count": 11,
   "metadata": {},
   "outputs": [],
   "source": [
    "drop_col= ['invoice/item_number', 'date', 'store_number', 'city', 'zip_code',\n",
    "       'county_number', 'county', 'item_number', 'item_description',\n",
    "       'state_bottle_cost', 'state_bottle_retail', 'bottles_sold',\n",
    "       'volume_sold_liters', 'store_name', 'open_store', 'store_type',\n",
    "       'year', 'quarter']\n",
    "\n",
    "df5_box.drop(columns = drop_col,inplace=True)"
   ]
  },
  {
   "cell_type": "code",
   "execution_count": 30,
   "metadata": {},
   "outputs": [
    {
     "data": {
      "text/plain": [
       "(15032242, 3)"
      ]
     },
     "execution_count": 30,
     "metadata": {},
     "output_type": "execute_result"
    }
   ],
   "source": [
    "df5_box.shape"
   ]
  },
  {
   "cell_type": "code",
   "execution_count": 13,
   "metadata": {},
   "outputs": [
    {
     "data": {
      "text/plain": [
       "Index(['sale_dollars', 'cat_name', 'ppl'], dtype='object')"
      ]
     },
     "execution_count": 13,
     "metadata": {},
     "output_type": "execute_result"
    }
   ],
   "source": [
    "df5_box.columns"
   ]
  },
  {
   "cell_type": "code",
   "execution_count": null,
   "metadata": {},
   "outputs": [],
   "source": [
    "df5_box.tail()"
   ]
  },
  {
   "cell_type": "code",
   "execution_count": 39,
   "metadata": {
    "scrolled": false
   },
   "outputs": [
    {
     "data": {
      "image/png": "[encoded data removed]",
      "text/plain": [
       "<Figure size 432x288 with 1 Axes>"
      ]
     },
     "metadata": {
      "needs_background": "light"
     },
     "output_type": "display_data"
    }
   ],
   "source": [
    "# make boxplot with Seaborn\n",
    "bplot=sns.boxplot(y='ppl', x='cat_name', \n",
    "                 data=df5_box, \n",
    "                 width=0.5,\n",
    "                 palette=\"colorblind\")\n",
    "\n",
    "# bplot=sns.swarmplot(y='ppl', x='cat_name',\n",
    "#               data=df5_box, \n",
    "#               color='black',\n",
    "#               alpha=0.75)"
   ]
  },
  {
   "cell_type": "code",
   "execution_count": 40,
   "metadata": {},
   "outputs": [],
   "source": [
    "plot_file_name=\"boxplot.jpg\"\n",
    "bplot.figure.savefig(plot_file_name,\n",
    "                    format='jpeg',\n",
    "                    dpi=100)"
   ]
  }
 ],
 "metadata": {
  "kernelspec": {
   "display_name": "Python 3",
   "language": "python",
   "name": "python3"
  },
  "language_info": {
   "codemirror_mode": {
    "name": "ipython",
    "version": 3
   },
   "file_extension": ".py",
   "mimetype": "text/x-python",
   "name": "python",
   "nbconvert_exporter": "python",
   "pygments_lexer": "ipython3",
   "version": "3.8.3"
  }
 },
 "nbformat": 4,
 "nbformat_minor": 4
}
