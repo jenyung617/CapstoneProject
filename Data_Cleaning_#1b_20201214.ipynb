{
 "cells": [
  {
   "cell_type": "markdown",
   "metadata": {},
   "source": [
    "### Notebook - 1b"
   ]
  },
  {
   "cell_type": "code",
   "execution_count": 1,
   "metadata": {},
   "outputs": [],
   "source": [
    "# Import packages\n",
    "import pandas as pd\n",
    "import numpy as np\n",
    "import matplotlib.pyplot as plt\n",
    "import warnings\n",
    "warnings.filterwarnings('ignore')\n",
    "pd.set_option('display.max_columns',95)\n",
    "pd.set_option('display.max_rows',None)\n",
    "import pickle"
   ]
  },
  {
   "cell_type": "code",
   "execution_count": null,
   "metadata": {},
   "outputs": [],
   "source": [
    "# f = open('df1.pkl', 'wb')\n",
    "# pickle.dump(r, f)\n",
    "# f.close()"
   ]
  },
  {
   "cell_type": "code",
   "execution_count": 2,
   "metadata": {},
   "outputs": [],
   "source": [
    "f = open('df1.pkl', 'rb')\n",
    "r = pickle.load(f)\n",
    "f.close()"
   ]
  },
  {
   "cell_type": "markdown",
   "metadata": {},
   "source": [
    "### Category Cleaning\n",
    "In order to analyze liquor sales, attention must be given to how each liquor order has been categorized. Looking at the original data set, we see there are 133 unique category names which is too long a list to make sense of so we are going to re-classify the category_name into 13 simplified liquor categories (ie. rum, whiskey, gin, brandy, vodka, etc..) so we can have a clearer, more top-line overview of the types of liquor being ordered/sold."
   ]
  },
  {
   "cell_type": "code",
   "execution_count": 3,
   "metadata": {},
   "outputs": [],
   "source": [
    "# Making a copy of the original dataframe to work with the category features\n",
    "liquor_cat = r.copy()"
   ]
  },
  {
   "cell_type": "code",
   "execution_count": null,
   "metadata": {},
   "outputs": [],
   "source": [
    "# Looking at the category_names \n",
    "# liquor_cat['category_name'].value_counts()"
   ]
  },
  {
   "cell_type": "code",
   "execution_count": 4,
   "metadata": {},
   "outputs": [
    {
     "name": "stdout",
     "output_type": "stream",
     "text": [
      "<class 'pandas.core.frame.DataFrame'>\n",
      "Int64Index: 20095649 entries, 0 to 20095648\n",
      "Data columns (total 11 columns):\n",
      " #   Column               Dtype         \n",
      "---  ------               -----         \n",
      " 0   invoice/item_number  category      \n",
      " 1   date                 datetime64[ns]\n",
      " 2   store_number         int64         \n",
      " 3   category             float64       \n",
      " 4   category_name        object        \n",
      " 5   item_number          category      \n",
      " 6   item_description     category      \n",
      " 7   bottles_sold         object        \n",
      " 8   sale_dollars         object        \n",
      " 9   volume_sold_liters   float16       \n",
      " 10  store_name           category      \n",
      "dtypes: category(4), datetime64[ns](1), float16(1), float64(1), int64(1), object(3)\n",
      "memory usage: 2.0+ GB\n"
     ]
    }
   ],
   "source": [
    "liquor_cat.info()"
   ]
  },
  {
   "cell_type": "code",
   "execution_count": 5,
   "metadata": {},
   "outputs": [],
   "source": [
    "#liquor_cat.loc[liquor_cat.category_name == 'NaN'] \n",
    "category_null = liquor_cat[liquor_cat['category_name'].isna()]"
   ]
  },
  {
   "cell_type": "code",
   "execution_count": 6,
   "metadata": {},
   "outputs": [],
   "source": [
    "# Cleaning item_description so object is in all lower case letters \n",
    "category_null['item_description'] = category_null['item_description'].str.lower()"
   ]
  },
  {
   "cell_type": "code",
   "execution_count": 7,
   "metadata": {},
   "outputs": [
    {
     "name": "stdout",
     "output_type": "stream",
     "text": [
      "<class 'pandas.core.frame.DataFrame'>\n",
      "Int64Index: 25040 entries, 2389 to 20093545\n",
      "Data columns (total 11 columns):\n",
      " #   Column               Non-Null Count  Dtype         \n",
      "---  ------               --------------  -----         \n",
      " 0   invoice/item_number  25040 non-null  category      \n",
      " 1   date                 25040 non-null  datetime64[ns]\n",
      " 2   store_number         25040 non-null  int64         \n",
      " 3   category             8066 non-null   float64       \n",
      " 4   category_name        0 non-null      object        \n",
      " 5   item_number          25040 non-null  category      \n",
      " 6   item_description     25040 non-null  object        \n",
      " 7   bottles_sold         25040 non-null  object        \n",
      " 8   sale_dollars         25040 non-null  object        \n",
      " 9   volume_sold_liters   24593 non-null  float16       \n",
      " 10  store_name           25040 non-null  category      \n",
      "dtypes: category(3), datetime64[ns](1), float16(1), float64(1), int64(1), object(4)\n",
      "memory usage: 795.6+ MB\n"
     ]
    }
   ],
   "source": [
    "category_null.info()"
   ]
  },
  {
   "cell_type": "code",
   "execution_count": 8,
   "metadata": {},
   "outputs": [
    {
     "data": {
      "text/html": [
       "<div>\n",
       "<style scoped>\n",
       "    .dataframe tbody tr th:only-of-type {\n",
       "        vertical-align: middle;\n",
       "    }\n",
       "\n",
       "    .dataframe tbody tr th {\n",
       "        vertical-align: top;\n",
       "    }\n",
       "\n",
       "    .dataframe thead th {\n",
       "        text-align: right;\n",
       "    }\n",
       "</style>\n",
       "<table border=\"1\" class=\"dataframe\">\n",
       "  <thead>\n",
       "    <tr style=\"text-align: right;\">\n",
       "      <th></th>\n",
       "      <th>invoice/item_number</th>\n",
       "      <th>date</th>\n",
       "      <th>store_number</th>\n",
       "      <th>category</th>\n",
       "      <th>category_name</th>\n",
       "      <th>item_number</th>\n",
       "      <th>item_description</th>\n",
       "      <th>bottles_sold</th>\n",
       "      <th>sale_dollars</th>\n",
       "      <th>volume_sold_liters</th>\n",
       "      <th>store_name</th>\n",
       "    </tr>\n",
       "  </thead>\n",
       "  <tbody>\n",
       "    <tr>\n",
       "      <th>2389</th>\n",
       "      <td>S06688800087</td>\n",
       "      <td>2012-07-19</td>\n",
       "      <td>2517</td>\n",
       "      <td>1022200.0</td>\n",
       "      <td>NaN</td>\n",
       "      <td>3657</td>\n",
       "      <td>herradura gold reposado 6pak</td>\n",
       "      <td>2</td>\n",
       "      <td>67.78</td>\n",
       "      <td>1.50</td>\n",
       "      <td>Hy-Vee Food Store #1 / Newton</td>\n",
       "    </tr>\n",
       "    <tr>\n",
       "      <th>3816</th>\n",
       "      <td>S21839300104</td>\n",
       "      <td>2014-10-16</td>\n",
       "      <td>2633</td>\n",
       "      <td>1022200.0</td>\n",
       "      <td>NaN</td>\n",
       "      <td>3657</td>\n",
       "      <td>herradura gold reposado 6pak</td>\n",
       "      <td>6</td>\n",
       "      <td>212.22</td>\n",
       "      <td>4.50</td>\n",
       "      <td>Hy-Vee #3 / BDI / Des Moines</td>\n",
       "    </tr>\n",
       "    <tr>\n",
       "      <th>4414</th>\n",
       "      <td>S05816100002</td>\n",
       "      <td>2012-05-31</td>\n",
       "      <td>2599</td>\n",
       "      <td>1022200.0</td>\n",
       "      <td>NaN</td>\n",
       "      <td>904983</td>\n",
       "      <td>herradura anejo tequila</td>\n",
       "      <td>6</td>\n",
       "      <td>243.18</td>\n",
       "      <td>4.50</td>\n",
       "      <td>Hy-Vee Wine and Spirits / Coralville</td>\n",
       "    </tr>\n",
       "    <tr>\n",
       "      <th>4757</th>\n",
       "      <td>S27709000001</td>\n",
       "      <td>2015-10-15</td>\n",
       "      <td>5063</td>\n",
       "      <td>NaN</td>\n",
       "      <td>NaN</td>\n",
       "      <td>1488</td>\n",
       "      <td>grey goose w/2 martini glasses</td>\n",
       "      <td>3</td>\n",
       "      <td>68.91</td>\n",
       "      <td>2.25</td>\n",
       "      <td>Logan Convenience Store</td>\n",
       "    </tr>\n",
       "    <tr>\n",
       "      <th>6836</th>\n",
       "      <td>S21550000040</td>\n",
       "      <td>2014-10-01</td>\n",
       "      <td>2551</td>\n",
       "      <td>NaN</td>\n",
       "      <td>NaN</td>\n",
       "      <td>3005</td>\n",
       "      <td>chambord liqueur w/2 glasses</td>\n",
       "      <td>6</td>\n",
       "      <td>167.04</td>\n",
       "      <td>4.50</td>\n",
       "      <td>Hy-Vee Food Store / Chariton</td>\n",
       "    </tr>\n",
       "  </tbody>\n",
       "</table>\n",
       "</div>"
      ],
      "text/plain": [
       "     invoice/item_number       date  store_number   category category_name  \\\n",
       "2389        S06688800087 2012-07-19          2517  1022200.0           NaN   \n",
       "3816        S21839300104 2014-10-16          2633  1022200.0           NaN   \n",
       "4414        S05816100002 2012-05-31          2599  1022200.0           NaN   \n",
       "4757        S27709000001 2015-10-15          5063        NaN           NaN   \n",
       "6836        S21550000040 2014-10-01          2551        NaN           NaN   \n",
       "\n",
       "     item_number                item_description bottles_sold sale_dollars  \\\n",
       "2389        3657    herradura gold reposado 6pak            2        67.78   \n",
       "3816        3657    herradura gold reposado 6pak            6       212.22   \n",
       "4414      904983         herradura anejo tequila            6       243.18   \n",
       "4757        1488  grey goose w/2 martini glasses            3        68.91   \n",
       "6836        3005    chambord liqueur w/2 glasses            6       167.04   \n",
       "\n",
       "      volume_sold_liters                            store_name  \n",
       "2389                1.50         Hy-Vee Food Store #1 / Newton  \n",
       "3816                4.50          Hy-Vee #3 / BDI / Des Moines  \n",
       "4414                4.50  Hy-Vee Wine and Spirits / Coralville  \n",
       "4757                2.25               Logan Convenience Store  \n",
       "6836                4.50          Hy-Vee Food Store / Chariton  "
      ]
     },
     "execution_count": 8,
     "metadata": {},
     "output_type": "execute_result"
    }
   ],
   "source": [
    "category_null.head() "
   ]
  },
  {
   "cell_type": "code",
   "execution_count": 9,
   "metadata": {},
   "outputs": [],
   "source": [
    "category_null.category_name = category_null.category_name.fillna('') "
   ]
  },
  {
   "cell_type": "code",
   "execution_count": 10,
   "metadata": {},
   "outputs": [
    {
     "data": {
      "text/html": [
       "<div>\n",
       "<style scoped>\n",
       "    .dataframe tbody tr th:only-of-type {\n",
       "        vertical-align: middle;\n",
       "    }\n",
       "\n",
       "    .dataframe tbody tr th {\n",
       "        vertical-align: top;\n",
       "    }\n",
       "\n",
       "    .dataframe thead th {\n",
       "        text-align: right;\n",
       "    }\n",
       "</style>\n",
       "<table border=\"1\" class=\"dataframe\">\n",
       "  <thead>\n",
       "    <tr style=\"text-align: right;\">\n",
       "      <th></th>\n",
       "      <th>invoice/item_number</th>\n",
       "      <th>date</th>\n",
       "      <th>store_number</th>\n",
       "      <th>category</th>\n",
       "      <th>category_name</th>\n",
       "      <th>item_number</th>\n",
       "      <th>item_description</th>\n",
       "      <th>bottles_sold</th>\n",
       "      <th>sale_dollars</th>\n",
       "      <th>volume_sold_liters</th>\n",
       "      <th>store_name</th>\n",
       "    </tr>\n",
       "  </thead>\n",
       "  <tbody>\n",
       "    <tr>\n",
       "      <th>2389</th>\n",
       "      <td>S06688800087</td>\n",
       "      <td>2012-07-19</td>\n",
       "      <td>2517</td>\n",
       "      <td>1022200.0</td>\n",
       "      <td></td>\n",
       "      <td>3657</td>\n",
       "      <td>herradura gold reposado 6pak</td>\n",
       "      <td>2</td>\n",
       "      <td>67.78</td>\n",
       "      <td>1.50</td>\n",
       "      <td>Hy-Vee Food Store #1 / Newton</td>\n",
       "    </tr>\n",
       "    <tr>\n",
       "      <th>3816</th>\n",
       "      <td>S21839300104</td>\n",
       "      <td>2014-10-16</td>\n",
       "      <td>2633</td>\n",
       "      <td>1022200.0</td>\n",
       "      <td></td>\n",
       "      <td>3657</td>\n",
       "      <td>herradura gold reposado 6pak</td>\n",
       "      <td>6</td>\n",
       "      <td>212.22</td>\n",
       "      <td>4.50</td>\n",
       "      <td>Hy-Vee #3 / BDI / Des Moines</td>\n",
       "    </tr>\n",
       "    <tr>\n",
       "      <th>4414</th>\n",
       "      <td>S05816100002</td>\n",
       "      <td>2012-05-31</td>\n",
       "      <td>2599</td>\n",
       "      <td>1022200.0</td>\n",
       "      <td></td>\n",
       "      <td>904983</td>\n",
       "      <td>herradura anejo tequila</td>\n",
       "      <td>6</td>\n",
       "      <td>243.18</td>\n",
       "      <td>4.50</td>\n",
       "      <td>Hy-Vee Wine and Spirits / Coralville</td>\n",
       "    </tr>\n",
       "    <tr>\n",
       "      <th>4757</th>\n",
       "      <td>S27709000001</td>\n",
       "      <td>2015-10-15</td>\n",
       "      <td>5063</td>\n",
       "      <td>NaN</td>\n",
       "      <td></td>\n",
       "      <td>1488</td>\n",
       "      <td>grey goose w/2 martini glasses</td>\n",
       "      <td>3</td>\n",
       "      <td>68.91</td>\n",
       "      <td>2.25</td>\n",
       "      <td>Logan Convenience Store</td>\n",
       "    </tr>\n",
       "    <tr>\n",
       "      <th>6836</th>\n",
       "      <td>S21550000040</td>\n",
       "      <td>2014-10-01</td>\n",
       "      <td>2551</td>\n",
       "      <td>NaN</td>\n",
       "      <td></td>\n",
       "      <td>3005</td>\n",
       "      <td>chambord liqueur w/2 glasses</td>\n",
       "      <td>6</td>\n",
       "      <td>167.04</td>\n",
       "      <td>4.50</td>\n",
       "      <td>Hy-Vee Food Store / Chariton</td>\n",
       "    </tr>\n",
       "  </tbody>\n",
       "</table>\n",
       "</div>"
      ],
      "text/plain": [
       "     invoice/item_number       date  store_number   category category_name  \\\n",
       "2389        S06688800087 2012-07-19          2517  1022200.0                 \n",
       "3816        S21839300104 2014-10-16          2633  1022200.0                 \n",
       "4414        S05816100002 2012-05-31          2599  1022200.0                 \n",
       "4757        S27709000001 2015-10-15          5063        NaN                 \n",
       "6836        S21550000040 2014-10-01          2551        NaN                 \n",
       "\n",
       "     item_number                item_description bottles_sold sale_dollars  \\\n",
       "2389        3657    herradura gold reposado 6pak            2        67.78   \n",
       "3816        3657    herradura gold reposado 6pak            6       212.22   \n",
       "4414      904983         herradura anejo tequila            6       243.18   \n",
       "4757        1488  grey goose w/2 martini glasses            3        68.91   \n",
       "6836        3005    chambord liqueur w/2 glasses            6       167.04   \n",
       "\n",
       "      volume_sold_liters                            store_name  \n",
       "2389                1.50         Hy-Vee Food Store #1 / Newton  \n",
       "3816                4.50          Hy-Vee #3 / BDI / Des Moines  \n",
       "4414                4.50  Hy-Vee Wine and Spirits / Coralville  \n",
       "4757                2.25               Logan Convenience Store  \n",
       "6836                4.50          Hy-Vee Food Store / Chariton  "
      ]
     },
     "execution_count": 10,
     "metadata": {},
     "output_type": "execute_result"
    }
   ],
   "source": [
    "category_null.head()"
   ]
  },
  {
   "cell_type": "code",
   "execution_count": 11,
   "metadata": {},
   "outputs": [],
   "source": [
    "# Creating and cleaning the category names into broader categories\n",
    "\n",
    "def contains(string, match_list):\n",
    "    for match in match_list:\n",
    "        if match in string:\n",
    "            return True\n",
    "    return False\n",
    "\n",
    "def item_cleaner(value):\n",
    "    \"\"\"\n",
    "    To be applied to a dataframe column to clean\n",
    "    alcohol categories so they are simpler.\n",
    "    \"\"\"\n",
    "    import pandas as pd\n",
    "    \n",
    "    if contains(value, ['rum', 'rums', 'bacardi', 'cruzan', 'abuelo', 'morgan']):\n",
    "        return 'rum'\n",
    "    elif contains(value, ['whiskies','whiskey', 'whisky', 'scotch', 'rye', 'bourbon', 'iowa distilleries', 'fireball', 'mark', 'ha', 'medley', 'forester', 'jack', 'woodford']):\n",
    "        return 'whiskey'\n",
    "    elif contains(value, ['anisette', 'triple sec', 'amaretto', 'creme', 'cremes', 'creams', 'cream', 'cordials', 'cordial', 'liqueurs', 'liqueur', '99', 'marnier']):\n",
    "        return 'cordials liqueurs'\n",
    "    elif contains(value, ['brandy','brandies', 'cognac', 'coganc', 'hennessy']):\n",
    "        return 'brandy'\n",
    "    elif contains(value, ['tequila','tequilas', 'mezcal', 'hornitos', 'herradura']):\n",
    "        return 'tequila'\n",
    "    elif contains(value, ['schnapps','schnapp']):\n",
    "        return 'schnapps'\n",
    "    elif contains(value, ['vodka','vodkas','eddy', 'burnett\\'s', 'burnetts', 'wapsi', 'smirnoff', 'cane']):\n",
    "        return 'vodka'\n",
    "    elif contains(value, ['gin','gins']):\n",
    "        return 'gin'\n",
    "    elif contains(value, ['cocktails','cocktail']):\n",
    "        return 'cocktails'\n",
    "    elif contains(value, ['spirit','spirits']):\n",
    "        return 'spirits'\n",
    "    elif contains(value, ['american alcohol', 'everclear']):\n",
    "        return 'grain alcohol'\n",
    "    elif contains(value, ['decanters', 'decanter', 'packages', 'glasses', 'coaster', 'shot', '/flask', 'flask', 'w/glass']):\n",
    "        return 'accessories'\n",
    "    else:\n",
    "        return 'other'\n",
    "    \n",
    "category_null['category_name'] = category_null['item_description'].apply(item_cleaner)"
   ]
  },
  {
   "cell_type": "code",
   "execution_count": 12,
   "metadata": {},
   "outputs": [
    {
     "data": {
      "text/html": [
       "<div>\n",
       "<style scoped>\n",
       "    .dataframe tbody tr th:only-of-type {\n",
       "        vertical-align: middle;\n",
       "    }\n",
       "\n",
       "    .dataframe tbody tr th {\n",
       "        vertical-align: top;\n",
       "    }\n",
       "\n",
       "    .dataframe thead th {\n",
       "        text-align: right;\n",
       "    }\n",
       "</style>\n",
       "<table border=\"1\" class=\"dataframe\">\n",
       "  <thead>\n",
       "    <tr style=\"text-align: right;\">\n",
       "      <th></th>\n",
       "      <th>invoice/item_number</th>\n",
       "      <th>date</th>\n",
       "      <th>store_number</th>\n",
       "      <th>category</th>\n",
       "      <th>category_name</th>\n",
       "      <th>item_number</th>\n",
       "      <th>item_description</th>\n",
       "      <th>bottles_sold</th>\n",
       "      <th>sale_dollars</th>\n",
       "      <th>volume_sold_liters</th>\n",
       "      <th>store_name</th>\n",
       "    </tr>\n",
       "  </thead>\n",
       "  <tbody>\n",
       "    <tr>\n",
       "      <th>2389</th>\n",
       "      <td>S06688800087</td>\n",
       "      <td>2012-07-19</td>\n",
       "      <td>2517</td>\n",
       "      <td>1022200.0</td>\n",
       "      <td>tequila</td>\n",
       "      <td>3657</td>\n",
       "      <td>herradura gold reposado 6pak</td>\n",
       "      <td>2</td>\n",
       "      <td>67.78</td>\n",
       "      <td>1.50</td>\n",
       "      <td>Hy-Vee Food Store #1 / Newton</td>\n",
       "    </tr>\n",
       "    <tr>\n",
       "      <th>3816</th>\n",
       "      <td>S21839300104</td>\n",
       "      <td>2014-10-16</td>\n",
       "      <td>2633</td>\n",
       "      <td>1022200.0</td>\n",
       "      <td>tequila</td>\n",
       "      <td>3657</td>\n",
       "      <td>herradura gold reposado 6pak</td>\n",
       "      <td>6</td>\n",
       "      <td>212.22</td>\n",
       "      <td>4.50</td>\n",
       "      <td>Hy-Vee #3 / BDI / Des Moines</td>\n",
       "    </tr>\n",
       "    <tr>\n",
       "      <th>4414</th>\n",
       "      <td>S05816100002</td>\n",
       "      <td>2012-05-31</td>\n",
       "      <td>2599</td>\n",
       "      <td>1022200.0</td>\n",
       "      <td>tequila</td>\n",
       "      <td>904983</td>\n",
       "      <td>herradura anejo tequila</td>\n",
       "      <td>6</td>\n",
       "      <td>243.18</td>\n",
       "      <td>4.50</td>\n",
       "      <td>Hy-Vee Wine and Spirits / Coralville</td>\n",
       "    </tr>\n",
       "    <tr>\n",
       "      <th>4757</th>\n",
       "      <td>S27709000001</td>\n",
       "      <td>2015-10-15</td>\n",
       "      <td>5063</td>\n",
       "      <td>NaN</td>\n",
       "      <td>accessories</td>\n",
       "      <td>1488</td>\n",
       "      <td>grey goose w/2 martini glasses</td>\n",
       "      <td>3</td>\n",
       "      <td>68.91</td>\n",
       "      <td>2.25</td>\n",
       "      <td>Logan Convenience Store</td>\n",
       "    </tr>\n",
       "    <tr>\n",
       "      <th>6836</th>\n",
       "      <td>S21550000040</td>\n",
       "      <td>2014-10-01</td>\n",
       "      <td>2551</td>\n",
       "      <td>NaN</td>\n",
       "      <td>whiskey</td>\n",
       "      <td>3005</td>\n",
       "      <td>chambord liqueur w/2 glasses</td>\n",
       "      <td>6</td>\n",
       "      <td>167.04</td>\n",
       "      <td>4.50</td>\n",
       "      <td>Hy-Vee Food Store / Chariton</td>\n",
       "    </tr>\n",
       "  </tbody>\n",
       "</table>\n",
       "</div>"
      ],
      "text/plain": [
       "     invoice/item_number       date  store_number   category category_name  \\\n",
       "2389        S06688800087 2012-07-19          2517  1022200.0       tequila   \n",
       "3816        S21839300104 2014-10-16          2633  1022200.0       tequila   \n",
       "4414        S05816100002 2012-05-31          2599  1022200.0       tequila   \n",
       "4757        S27709000001 2015-10-15          5063        NaN   accessories   \n",
       "6836        S21550000040 2014-10-01          2551        NaN       whiskey   \n",
       "\n",
       "     item_number                item_description bottles_sold sale_dollars  \\\n",
       "2389        3657    herradura gold reposado 6pak            2        67.78   \n",
       "3816        3657    herradura gold reposado 6pak            6       212.22   \n",
       "4414      904983         herradura anejo tequila            6       243.18   \n",
       "4757        1488  grey goose w/2 martini glasses            3        68.91   \n",
       "6836        3005    chambord liqueur w/2 glasses            6       167.04   \n",
       "\n",
       "      volume_sold_liters                            store_name  \n",
       "2389                1.50         Hy-Vee Food Store #1 / Newton  \n",
       "3816                4.50          Hy-Vee #3 / BDI / Des Moines  \n",
       "4414                4.50  Hy-Vee Wine and Spirits / Coralville  \n",
       "4757                2.25               Logan Convenience Store  \n",
       "6836                4.50          Hy-Vee Food Store / Chariton  "
      ]
     },
     "execution_count": 12,
     "metadata": {},
     "output_type": "execute_result"
    }
   ],
   "source": [
    "category_null.head()"
   ]
  },
  {
   "cell_type": "code",
   "execution_count": 13,
   "metadata": {
    "scrolled": true
   },
   "outputs": [
    {
     "data": {
      "text/plain": [
       "other                5269\n",
       "whiskey              3976\n",
       "cordials liqueurs    3586\n",
       "brandy               2678\n",
       "rum                  2481\n",
       "vodka                2387\n",
       "tequila              2374\n",
       "accessories          2022\n",
       "gin                   210\n",
       "grain alcohol          48\n",
       "schnapps                6\n",
       "spirits                 3\n",
       "Name: category_name, dtype: int64"
      ]
     },
     "execution_count": 13,
     "metadata": {},
     "output_type": "execute_result"
    }
   ],
   "source": [
    "category_null.category_name.value_counts() "
   ]
  },
  {
   "cell_type": "code",
   "execution_count": 14,
   "metadata": {},
   "outputs": [],
   "source": [
    "# Fill in missing values in liquor_cat table's category_name column with empty string\n",
    "liquor_cat.category_name = liquor_cat.category_name.fillna('')"
   ]
  },
  {
   "cell_type": "code",
   "execution_count": 15,
   "metadata": {},
   "outputs": [],
   "source": [
    "category_null.drop(columns = ['date', 'store_number', 'category', 'item_number', 'item_description','bottles_sold', \n",
    "                    'sale_dollars', 'volume_sold_liters','store_name'], axis = 1, inplace = True)"
   ]
  },
  {
   "cell_type": "code",
   "execution_count": 16,
   "metadata": {},
   "outputs": [
    {
     "data": {
      "text/plain": [
       "Index(['invoice/item_number', 'category_name'], dtype='object')"
      ]
     },
     "execution_count": 16,
     "metadata": {},
     "output_type": "execute_result"
    }
   ],
   "source": [
    "category_null.columns"
   ]
  },
  {
   "cell_type": "code",
   "execution_count": 26,
   "metadata": {},
   "outputs": [
    {
     "ename": "KeyboardInterrupt",
     "evalue": "",
     "output_type": "error",
     "traceback": [
      "\u001b[1;31m---------------------------------------------------------------------------\u001b[0m",
      "\u001b[1;31mKeyboardInterrupt\u001b[0m                         Traceback (most recent call last)",
      "\u001b[1;32m<ipython-input-26-912d73b65ec4>\u001b[0m in \u001b[0;36m<module>\u001b[1;34m\u001b[0m\n\u001b[1;32m----> 1\u001b[1;33m \u001b[0mliquor_cat\u001b[0m \u001b[1;33m=\u001b[0m \u001b[0mpd\u001b[0m\u001b[1;33m.\u001b[0m\u001b[0mmerge\u001b[0m\u001b[1;33m(\u001b[0m\u001b[0mliquor_cat\u001b[0m\u001b[1;33m,\u001b[0m \u001b[0mcategory_null\u001b[0m\u001b[1;33m,\u001b[0m \u001b[0mhow\u001b[0m \u001b[1;33m=\u001b[0m \u001b[1;34m'left'\u001b[0m\u001b[1;33m,\u001b[0m \u001b[0mon\u001b[0m \u001b[1;33m=\u001b[0m \u001b[1;34m'invoice/item_number'\u001b[0m\u001b[1;33m)\u001b[0m\u001b[1;33m\u001b[0m\u001b[1;33m\u001b[0m\u001b[0m\n\u001b[0m",
      "\u001b[1;32m~\\anaconda3\\lib\\site-packages\\pandas\\core\\reshape\\merge.py\u001b[0m in \u001b[0;36mmerge\u001b[1;34m(left, right, how, on, left_on, right_on, left_index, right_index, sort, suffixes, copy, indicator, validate)\u001b[0m\n\u001b[0;32m     71\u001b[0m     \u001b[0mvalidate\u001b[0m\u001b[1;33m=\u001b[0m\u001b[1;32mNone\u001b[0m\u001b[1;33m,\u001b[0m\u001b[1;33m\u001b[0m\u001b[1;33m\u001b[0m\u001b[0m\n\u001b[0;32m     72\u001b[0m ) -> \"DataFrame\":\n\u001b[1;32m---> 73\u001b[1;33m     op = _MergeOperation(\n\u001b[0m\u001b[0;32m     74\u001b[0m         \u001b[0mleft\u001b[0m\u001b[1;33m,\u001b[0m\u001b[1;33m\u001b[0m\u001b[1;33m\u001b[0m\u001b[0m\n\u001b[0;32m     75\u001b[0m         \u001b[0mright\u001b[0m\u001b[1;33m,\u001b[0m\u001b[1;33m\u001b[0m\u001b[1;33m\u001b[0m\u001b[0m\n",
      "\u001b[1;32m~\\anaconda3\\lib\\site-packages\\pandas\\core\\reshape\\merge.py\u001b[0m in \u001b[0;36m__init__\u001b[1;34m(self, left, right, how, on, left_on, right_on, axis, left_index, right_index, sort, suffixes, copy, indicator, validate)\u001b[0m\n\u001b[0;32m    629\u001b[0m         \u001b[1;31m# validate the merge keys dtypes. We may need to coerce\u001b[0m\u001b[1;33m\u001b[0m\u001b[1;33m\u001b[0m\u001b[1;33m\u001b[0m\u001b[0m\n\u001b[0;32m    630\u001b[0m         \u001b[1;31m# to avoid incompat dtypes\u001b[0m\u001b[1;33m\u001b[0m\u001b[1;33m\u001b[0m\u001b[1;33m\u001b[0m\u001b[0m\n\u001b[1;32m--> 631\u001b[1;33m         \u001b[0mself\u001b[0m\u001b[1;33m.\u001b[0m\u001b[0m_maybe_coerce_merge_keys\u001b[0m\u001b[1;33m(\u001b[0m\u001b[1;33m)\u001b[0m\u001b[1;33m\u001b[0m\u001b[1;33m\u001b[0m\u001b[0m\n\u001b[0m\u001b[0;32m    632\u001b[0m \u001b[1;33m\u001b[0m\u001b[0m\n\u001b[0;32m    633\u001b[0m         \u001b[1;31m# If argument passed to validate,\u001b[0m\u001b[1;33m\u001b[0m\u001b[1;33m\u001b[0m\u001b[1;33m\u001b[0m\u001b[0m\n",
      "\u001b[1;32m~\\anaconda3\\lib\\site-packages\\pandas\\core\\reshape\\merge.py\u001b[0m in \u001b[0;36m_maybe_coerce_merge_keys\u001b[1;34m(self)\u001b[0m\n\u001b[0;32m   1064\u001b[0m             \u001b[1;31m# then the must match exactly in categories & ordered\u001b[0m\u001b[1;33m\u001b[0m\u001b[1;33m\u001b[0m\u001b[1;33m\u001b[0m\u001b[0m\n\u001b[0;32m   1065\u001b[0m             \u001b[1;32mif\u001b[0m \u001b[0mlk_is_cat\u001b[0m \u001b[1;32mand\u001b[0m \u001b[0mrk_is_cat\u001b[0m\u001b[1;33m:\u001b[0m\u001b[1;33m\u001b[0m\u001b[1;33m\u001b[0m\u001b[0m\n\u001b[1;32m-> 1066\u001b[1;33m                 \u001b[1;32mif\u001b[0m \u001b[0mlk\u001b[0m\u001b[1;33m.\u001b[0m\u001b[0mis_dtype_equal\u001b[0m\u001b[1;33m(\u001b[0m\u001b[0mrk\u001b[0m\u001b[1;33m)\u001b[0m\u001b[1;33m:\u001b[0m\u001b[1;33m\u001b[0m\u001b[1;33m\u001b[0m\u001b[0m\n\u001b[0m\u001b[0;32m   1067\u001b[0m                     \u001b[1;32mcontinue\u001b[0m\u001b[1;33m\u001b[0m\u001b[1;33m\u001b[0m\u001b[0m\n\u001b[0;32m   1068\u001b[0m \u001b[1;33m\u001b[0m\u001b[0m\n",
      "\u001b[1;32m~\\anaconda3\\lib\\site-packages\\pandas\\core\\arrays\\categorical.py\u001b[0m in \u001b[0;36mis_dtype_equal\u001b[1;34m(self, other)\u001b[0m\n\u001b[0;32m   2325\u001b[0m \u001b[1;33m\u001b[0m\u001b[0m\n\u001b[0;32m   2326\u001b[0m         \u001b[1;32mtry\u001b[0m\u001b[1;33m:\u001b[0m\u001b[1;33m\u001b[0m\u001b[1;33m\u001b[0m\u001b[0m\n\u001b[1;32m-> 2327\u001b[1;33m             \u001b[1;32mreturn\u001b[0m \u001b[0mhash\u001b[0m\u001b[1;33m(\u001b[0m\u001b[0mself\u001b[0m\u001b[1;33m.\u001b[0m\u001b[0mdtype\u001b[0m\u001b[1;33m)\u001b[0m \u001b[1;33m==\u001b[0m \u001b[0mhash\u001b[0m\u001b[1;33m(\u001b[0m\u001b[0mother\u001b[0m\u001b[1;33m.\u001b[0m\u001b[0mdtype\u001b[0m\u001b[1;33m)\u001b[0m\u001b[1;33m\u001b[0m\u001b[1;33m\u001b[0m\u001b[0m\n\u001b[0m\u001b[0;32m   2328\u001b[0m         \u001b[1;32mexcept\u001b[0m \u001b[1;33m(\u001b[0m\u001b[0mAttributeError\u001b[0m\u001b[1;33m,\u001b[0m \u001b[0mTypeError\u001b[0m\u001b[1;33m)\u001b[0m\u001b[1;33m:\u001b[0m\u001b[1;33m\u001b[0m\u001b[1;33m\u001b[0m\u001b[0m\n\u001b[0;32m   2329\u001b[0m             \u001b[1;32mreturn\u001b[0m \u001b[1;32mFalse\u001b[0m\u001b[1;33m\u001b[0m\u001b[1;33m\u001b[0m\u001b[0m\n",
      "\u001b[1;32m~\\anaconda3\\lib\\site-packages\\pandas\\core\\dtypes\\dtypes.py\u001b[0m in \u001b[0;36m__hash__\u001b[1;34m(self)\u001b[0m\n\u001b[0;32m    388\u001b[0m                 \u001b[1;32mreturn\u001b[0m \u001b[1;33m-\u001b[0m\u001b[1;36m2\u001b[0m\u001b[1;33m\u001b[0m\u001b[1;33m\u001b[0m\u001b[0m\n\u001b[0;32m    389\u001b[0m         \u001b[1;31m# We *do* want to include the real self.ordered here\u001b[0m\u001b[1;33m\u001b[0m\u001b[1;33m\u001b[0m\u001b[1;33m\u001b[0m\u001b[0m\n\u001b[1;32m--> 390\u001b[1;33m         \u001b[1;32mreturn\u001b[0m \u001b[0mint\u001b[0m\u001b[1;33m(\u001b[0m\u001b[0mself\u001b[0m\u001b[1;33m.\u001b[0m\u001b[0m_hash_categories\u001b[0m\u001b[1;33m(\u001b[0m\u001b[0mself\u001b[0m\u001b[1;33m.\u001b[0m\u001b[0mcategories\u001b[0m\u001b[1;33m,\u001b[0m \u001b[0mself\u001b[0m\u001b[1;33m.\u001b[0m\u001b[0mordered\u001b[0m\u001b[1;33m)\u001b[0m\u001b[1;33m)\u001b[0m\u001b[1;33m\u001b[0m\u001b[1;33m\u001b[0m\u001b[0m\n\u001b[0m\u001b[0;32m    391\u001b[0m \u001b[1;33m\u001b[0m\u001b[0m\n\u001b[0;32m    392\u001b[0m     \u001b[1;32mdef\u001b[0m \u001b[0m__eq__\u001b[0m\u001b[1;33m(\u001b[0m\u001b[0mself\u001b[0m\u001b[1;33m,\u001b[0m \u001b[0mother\u001b[0m\u001b[1;33m:\u001b[0m \u001b[0mAny\u001b[0m\u001b[1;33m)\u001b[0m \u001b[1;33m->\u001b[0m \u001b[0mbool\u001b[0m\u001b[1;33m:\u001b[0m\u001b[1;33m\u001b[0m\u001b[1;33m\u001b[0m\u001b[0m\n",
      "\u001b[1;32m~\\anaconda3\\lib\\site-packages\\pandas\\core\\dtypes\\dtypes.py\u001b[0m in \u001b[0;36m_hash_categories\u001b[1;34m(categories, ordered)\u001b[0m\n\u001b[0;32m    460\u001b[0m         \u001b[1;32melse\u001b[0m\u001b[1;33m:\u001b[0m\u001b[1;33m\u001b[0m\u001b[1;33m\u001b[0m\u001b[0m\n\u001b[0;32m    461\u001b[0m             \u001b[1;32mif\u001b[0m \u001b[0mcategories\u001b[0m\u001b[1;33m.\u001b[0m\u001b[0mdtype\u001b[0m \u001b[1;33m==\u001b[0m \u001b[1;34m\"O\"\u001b[0m\u001b[1;33m:\u001b[0m\u001b[1;33m\u001b[0m\u001b[1;33m\u001b[0m\u001b[0m\n\u001b[1;32m--> 462\u001b[1;33m                 \u001b[1;32mif\u001b[0m \u001b[0mlen\u001b[0m\u001b[1;33m(\u001b[0m\u001b[1;33m{\u001b[0m\u001b[0mtype\u001b[0m\u001b[1;33m(\u001b[0m\u001b[0mx\u001b[0m\u001b[1;33m)\u001b[0m \u001b[1;32mfor\u001b[0m \u001b[0mx\u001b[0m \u001b[1;32min\u001b[0m \u001b[0mcategories\u001b[0m\u001b[1;33m}\u001b[0m\u001b[1;33m)\u001b[0m \u001b[1;33m!=\u001b[0m \u001b[1;36m1\u001b[0m\u001b[1;33m:\u001b[0m\u001b[1;33m\u001b[0m\u001b[1;33m\u001b[0m\u001b[0m\n\u001b[0m\u001b[0;32m    463\u001b[0m                     \u001b[1;31m# TODO: hash_array doesn't handle mixed types. It casts\u001b[0m\u001b[1;33m\u001b[0m\u001b[1;33m\u001b[0m\u001b[1;33m\u001b[0m\u001b[0m\n\u001b[0;32m    464\u001b[0m                     \u001b[1;31m# everything to a str first, which means we treat\u001b[0m\u001b[1;33m\u001b[0m\u001b[1;33m\u001b[0m\u001b[1;33m\u001b[0m\u001b[0m\n",
      "\u001b[1;32m~\\anaconda3\\lib\\site-packages\\pandas\\core\\dtypes\\dtypes.py\u001b[0m in \u001b[0;36m<setcomp>\u001b[1;34m(.0)\u001b[0m\n\u001b[0;32m    460\u001b[0m         \u001b[1;32melse\u001b[0m\u001b[1;33m:\u001b[0m\u001b[1;33m\u001b[0m\u001b[1;33m\u001b[0m\u001b[0m\n\u001b[0;32m    461\u001b[0m             \u001b[1;32mif\u001b[0m \u001b[0mcategories\u001b[0m\u001b[1;33m.\u001b[0m\u001b[0mdtype\u001b[0m \u001b[1;33m==\u001b[0m \u001b[1;34m\"O\"\u001b[0m\u001b[1;33m:\u001b[0m\u001b[1;33m\u001b[0m\u001b[1;33m\u001b[0m\u001b[0m\n\u001b[1;32m--> 462\u001b[1;33m                 \u001b[1;32mif\u001b[0m \u001b[0mlen\u001b[0m\u001b[1;33m(\u001b[0m\u001b[1;33m{\u001b[0m\u001b[0mtype\u001b[0m\u001b[1;33m(\u001b[0m\u001b[0mx\u001b[0m\u001b[1;33m)\u001b[0m \u001b[1;32mfor\u001b[0m \u001b[0mx\u001b[0m \u001b[1;32min\u001b[0m \u001b[0mcategories\u001b[0m\u001b[1;33m}\u001b[0m\u001b[1;33m)\u001b[0m \u001b[1;33m!=\u001b[0m \u001b[1;36m1\u001b[0m\u001b[1;33m:\u001b[0m\u001b[1;33m\u001b[0m\u001b[1;33m\u001b[0m\u001b[0m\n\u001b[0m\u001b[0;32m    463\u001b[0m                     \u001b[1;31m# TODO: hash_array doesn't handle mixed types. It casts\u001b[0m\u001b[1;33m\u001b[0m\u001b[1;33m\u001b[0m\u001b[1;33m\u001b[0m\u001b[0m\n\u001b[0;32m    464\u001b[0m                     \u001b[1;31m# everything to a str first, which means we treat\u001b[0m\u001b[1;33m\u001b[0m\u001b[1;33m\u001b[0m\u001b[1;33m\u001b[0m\u001b[0m\n",
      "\u001b[1;31mKeyboardInterrupt\u001b[0m: "
     ]
    }
   ],
   "source": [
    "# liquor_cat = pd.merge(liquor_cat, category_null, how = 'left', on = 'invoice/item_number')"
   ]
  },
  {
   "cell_type": "code",
   "execution_count": 18,
   "metadata": {},
   "outputs": [
    {
     "data": {
      "text/html": [
       "<div>\n",
       "<style scoped>\n",
       "    .dataframe tbody tr th:only-of-type {\n",
       "        vertical-align: middle;\n",
       "    }\n",
       "\n",
       "    .dataframe tbody tr th {\n",
       "        vertical-align: top;\n",
       "    }\n",
       "\n",
       "    .dataframe thead th {\n",
       "        text-align: right;\n",
       "    }\n",
       "</style>\n",
       "<table border=\"1\" class=\"dataframe\">\n",
       "  <thead>\n",
       "    <tr style=\"text-align: right;\">\n",
       "      <th></th>\n",
       "      <th>invoice/item_number</th>\n",
       "      <th>date</th>\n",
       "      <th>store_number</th>\n",
       "      <th>category</th>\n",
       "      <th>category_name_x</th>\n",
       "      <th>item_number</th>\n",
       "      <th>item_description</th>\n",
       "      <th>bottles_sold</th>\n",
       "      <th>sale_dollars</th>\n",
       "      <th>volume_sold_liters</th>\n",
       "      <th>store_name</th>\n",
       "      <th>category_name_y</th>\n",
       "    </tr>\n",
       "  </thead>\n",
       "  <tbody>\n",
       "    <tr>\n",
       "      <th>0</th>\n",
       "      <td>S04763500007</td>\n",
       "      <td>2012-03-27</td>\n",
       "      <td>2534</td>\n",
       "      <td>1012100.0</td>\n",
       "      <td>CANADIAN WHISKIES</td>\n",
       "      <td>11788</td>\n",
       "      <td>Black Velvet</td>\n",
       "      <td>6</td>\n",
       "      <td>94.02</td>\n",
       "      <td>10.50</td>\n",
       "      <td>Hy-Vee Drugtown / Urbandale</td>\n",
       "      <td>NaN</td>\n",
       "    </tr>\n",
       "    <tr>\n",
       "      <th>1</th>\n",
       "      <td>S27474100012</td>\n",
       "      <td>2015-08-25</td>\n",
       "      <td>4924</td>\n",
       "      <td>1022100.0</td>\n",
       "      <td>TEQUILA</td>\n",
       "      <td>89194</td>\n",
       "      <td>Jose Cuervo Especial Reposado Flask</td>\n",
       "      <td>4</td>\n",
       "      <td>33.00</td>\n",
       "      <td>1.50</td>\n",
       "      <td>Abby Lea's</td>\n",
       "      <td>NaN</td>\n",
       "    </tr>\n",
       "    <tr>\n",
       "      <th>2</th>\n",
       "      <td>S10731000040</td>\n",
       "      <td>2013-02-21</td>\n",
       "      <td>4652</td>\n",
       "      <td>1032200.0</td>\n",
       "      <td>IMPORTED VODKA - MISC</td>\n",
       "      <td>34449</td>\n",
       "      <td>Ketel One Citroen</td>\n",
       "      <td>2</td>\n",
       "      <td>40.48</td>\n",
       "      <td>1.50</td>\n",
       "      <td>Brady Mart Food &amp; Liquor</td>\n",
       "      <td>NaN</td>\n",
       "    </tr>\n",
       "    <tr>\n",
       "      <th>3</th>\n",
       "      <td>S17037900080</td>\n",
       "      <td>2014-01-27</td>\n",
       "      <td>4794</td>\n",
       "      <td>1041100.0</td>\n",
       "      <td>AMERICAN DRY GINS</td>\n",
       "      <td>32236</td>\n",
       "      <td>Seagrams Extra Dry Gin</td>\n",
       "      <td>1</td>\n",
       "      <td>8.99</td>\n",
       "      <td>0.75</td>\n",
       "      <td>Smokin' Joe's #17 Tobacco and Liquor Outlet</td>\n",
       "      <td>NaN</td>\n",
       "    </tr>\n",
       "    <tr>\n",
       "      <th>4</th>\n",
       "      <td>S14396900023</td>\n",
       "      <td>2013-09-09</td>\n",
       "      <td>2647</td>\n",
       "      <td>1012100.0</td>\n",
       "      <td>CANADIAN WHISKIES</td>\n",
       "      <td>13038</td>\n",
       "      <td>Canadian Reserve Whisky</td>\n",
       "      <td>6</td>\n",
       "      <td>80.94</td>\n",
       "      <td>10.50</td>\n",
       "      <td>Hy-Vee #7 / Edgewood Cedar Rapids</td>\n",
       "      <td>NaN</td>\n",
       "    </tr>\n",
       "  </tbody>\n",
       "</table>\n",
       "</div>"
      ],
      "text/plain": [
       "  invoice/item_number       date  store_number   category  \\\n",
       "0        S04763500007 2012-03-27          2534  1012100.0   \n",
       "1        S27474100012 2015-08-25          4924  1022100.0   \n",
       "2        S10731000040 2013-02-21          4652  1032200.0   \n",
       "3        S17037900080 2014-01-27          4794  1041100.0   \n",
       "4        S14396900023 2013-09-09          2647  1012100.0   \n",
       "\n",
       "         category_name_x item_number                     item_description  \\\n",
       "0      CANADIAN WHISKIES       11788                         Black Velvet   \n",
       "1                TEQUILA       89194  Jose Cuervo Especial Reposado Flask   \n",
       "2  IMPORTED VODKA - MISC       34449                    Ketel One Citroen   \n",
       "3      AMERICAN DRY GINS       32236               Seagrams Extra Dry Gin   \n",
       "4      CANADIAN WHISKIES       13038              Canadian Reserve Whisky   \n",
       "\n",
       "  bottles_sold sale_dollars  volume_sold_liters  \\\n",
       "0            6        94.02               10.50   \n",
       "1            4        33.00                1.50   \n",
       "2            2        40.48                1.50   \n",
       "3            1         8.99                0.75   \n",
       "4            6        80.94               10.50   \n",
       "\n",
       "                                    store_name category_name_y  \n",
       "0                  Hy-Vee Drugtown / Urbandale             NaN  \n",
       "1                                   Abby Lea's             NaN  \n",
       "2                     Brady Mart Food & Liquor             NaN  \n",
       "3  Smokin' Joe's #17 Tobacco and Liquor Outlet             NaN  \n",
       "4            Hy-Vee #7 / Edgewood Cedar Rapids             NaN  "
      ]
     },
     "execution_count": 18,
     "metadata": {},
     "output_type": "execute_result"
    }
   ],
   "source": [
    "# liquor_cat.head()"
   ]
  },
  {
   "cell_type": "code",
   "execution_count": 23,
   "metadata": {},
   "outputs": [],
   "source": [
    "liquor_cat.loc[liquor_cat['invoice/item_number'].isin(category_null['invoice/item_number']), ['category_name_x']] =category_null['category_name']"
   ]
  },
  {
   "cell_type": "code",
   "execution_count": 24,
   "metadata": {
    "scrolled": true
   },
   "outputs": [
    {
     "data": {
      "text/html": [
       "<div>\n",
       "<style scoped>\n",
       "    .dataframe tbody tr th:only-of-type {\n",
       "        vertical-align: middle;\n",
       "    }\n",
       "\n",
       "    .dataframe tbody tr th {\n",
       "        vertical-align: top;\n",
       "    }\n",
       "\n",
       "    .dataframe thead th {\n",
       "        text-align: right;\n",
       "    }\n",
       "</style>\n",
       "<table border=\"1\" class=\"dataframe\">\n",
       "  <thead>\n",
       "    <tr style=\"text-align: right;\">\n",
       "      <th></th>\n",
       "      <th>category_name_x</th>\n",
       "    </tr>\n",
       "  </thead>\n",
       "  <tbody>\n",
       "    <tr>\n",
       "      <th>2389</th>\n",
       "      <td>tequila</td>\n",
       "    </tr>\n",
       "    <tr>\n",
       "      <th>3816</th>\n",
       "      <td>tequila</td>\n",
       "    </tr>\n",
       "    <tr>\n",
       "      <th>4414</th>\n",
       "      <td>tequila</td>\n",
       "    </tr>\n",
       "    <tr>\n",
       "      <th>4757</th>\n",
       "      <td>accessories</td>\n",
       "    </tr>\n",
       "    <tr>\n",
       "      <th>6836</th>\n",
       "      <td>whiskey</td>\n",
       "    </tr>\n",
       "  </tbody>\n",
       "</table>\n",
       "</div>"
      ],
      "text/plain": [
       "     category_name_x\n",
       "2389         tequila\n",
       "3816         tequila\n",
       "4414         tequila\n",
       "4757     accessories\n",
       "6836         whiskey"
      ]
     },
     "execution_count": 24,
     "metadata": {},
     "output_type": "execute_result"
    }
   ],
   "source": [
    "liquor_cat.loc[liquor_cat['invoice/item_number'].isin(category_null['invoice/item_number']), ['category_name_x']].head()"
   ]
  },
  {
   "cell_type": "code",
   "execution_count": 22,
   "metadata": {},
   "outputs": [
    {
     "data": {
      "text/html": [
       "<div>\n",
       "<style scoped>\n",
       "    .dataframe tbody tr th:only-of-type {\n",
       "        vertical-align: middle;\n",
       "    }\n",
       "\n",
       "    .dataframe tbody tr th {\n",
       "        vertical-align: top;\n",
       "    }\n",
       "\n",
       "    .dataframe thead th {\n",
       "        text-align: right;\n",
       "    }\n",
       "</style>\n",
       "<table border=\"1\" class=\"dataframe\">\n",
       "  <thead>\n",
       "    <tr style=\"text-align: right;\">\n",
       "      <th></th>\n",
       "      <th>invoice/item_number</th>\n",
       "      <th>category_name</th>\n",
       "    </tr>\n",
       "  </thead>\n",
       "  <tbody>\n",
       "    <tr>\n",
       "      <th>2389</th>\n",
       "      <td>S06688800087</td>\n",
       "      <td>tequila</td>\n",
       "    </tr>\n",
       "    <tr>\n",
       "      <th>3816</th>\n",
       "      <td>S21839300104</td>\n",
       "      <td>tequila</td>\n",
       "    </tr>\n",
       "    <tr>\n",
       "      <th>4414</th>\n",
       "      <td>S05816100002</td>\n",
       "      <td>tequila</td>\n",
       "    </tr>\n",
       "    <tr>\n",
       "      <th>4757</th>\n",
       "      <td>S27709000001</td>\n",
       "      <td>accessories</td>\n",
       "    </tr>\n",
       "    <tr>\n",
       "      <th>6836</th>\n",
       "      <td>S21550000040</td>\n",
       "      <td>whiskey</td>\n",
       "    </tr>\n",
       "  </tbody>\n",
       "</table>\n",
       "</div>"
      ],
      "text/plain": [
       "     invoice/item_number category_name\n",
       "2389        S06688800087       tequila\n",
       "3816        S21839300104       tequila\n",
       "4414        S05816100002       tequila\n",
       "4757        S27709000001   accessories\n",
       "6836        S21550000040       whiskey"
      ]
     },
     "execution_count": 22,
     "metadata": {},
     "output_type": "execute_result"
    }
   ],
   "source": [
    "category_null.head()"
   ]
  },
  {
   "cell_type": "code",
   "execution_count": 25,
   "metadata": {},
   "outputs": [
    {
     "data": {
      "text/html": [
       "<div>\n",
       "<style scoped>\n",
       "    .dataframe tbody tr th:only-of-type {\n",
       "        vertical-align: middle;\n",
       "    }\n",
       "\n",
       "    .dataframe tbody tr th {\n",
       "        vertical-align: top;\n",
       "    }\n",
       "\n",
       "    .dataframe thead th {\n",
       "        text-align: right;\n",
       "    }\n",
       "</style>\n",
       "<table border=\"1\" class=\"dataframe\">\n",
       "  <thead>\n",
       "    <tr style=\"text-align: right;\">\n",
       "      <th></th>\n",
       "      <th>invoice/item_number</th>\n",
       "      <th>date</th>\n",
       "      <th>store_number</th>\n",
       "      <th>category</th>\n",
       "      <th>category_name_x</th>\n",
       "      <th>item_number</th>\n",
       "      <th>item_description</th>\n",
       "      <th>bottles_sold</th>\n",
       "      <th>sale_dollars</th>\n",
       "      <th>volume_sold_liters</th>\n",
       "      <th>store_name</th>\n",
       "      <th>category_name_y</th>\n",
       "    </tr>\n",
       "  </thead>\n",
       "  <tbody>\n",
       "    <tr>\n",
       "      <th>2389</th>\n",
       "      <td>S06688800087</td>\n",
       "      <td>2012-07-19</td>\n",
       "      <td>2517</td>\n",
       "      <td>1022200.0</td>\n",
       "      <td>tequila</td>\n",
       "      <td>3657</td>\n",
       "      <td>Herradura Gold Reposado 6pak</td>\n",
       "      <td>2</td>\n",
       "      <td>67.78</td>\n",
       "      <td>1.5</td>\n",
       "      <td>Hy-Vee Food Store #1 / Newton</td>\n",
       "      <td>tequila</td>\n",
       "    </tr>\n",
       "  </tbody>\n",
       "</table>\n",
       "</div>"
      ],
      "text/plain": [
       "     invoice/item_number       date  store_number   category category_name_x  \\\n",
       "2389        S06688800087 2012-07-19          2517  1022200.0         tequila   \n",
       "\n",
       "     item_number              item_description bottles_sold sale_dollars  \\\n",
       "2389        3657  Herradura Gold Reposado 6pak            2        67.78   \n",
       "\n",
       "      volume_sold_liters                     store_name category_name_y  \n",
       "2389                 1.5  Hy-Vee Food Store #1 / Newton         tequila  "
      ]
     },
     "execution_count": 25,
     "metadata": {},
     "output_type": "execute_result"
    }
   ],
   "source": [
    "# S06688800087\n",
    "liquor_cat[liquor_cat['invoice/item_number'] == 'S06688800087']"
   ]
  },
  {
   "cell_type": "code",
   "execution_count": null,
   "metadata": {},
   "outputs": [],
   "source": [
    "# Cleaning category_name so object is in all lower case letters\n",
    "liquor_cat['category_name'] = liquor_cat['category_name'].str.lower()"
   ]
  },
  {
   "cell_type": "code",
   "execution_count": null,
   "metadata": {},
   "outputs": [],
   "source": [
    "# next steps: re-classify below to get the corrected 'category_name' column\n",
    "# then create the egg nog column\n",
    "# then need the store closed column "
   ]
  },
  {
   "cell_type": "markdown",
   "metadata": {},
   "source": [
    "### Methodology for re-classifying liquor categories\n",
    "As mentioned above, there are 133 category_names, to bucket them into a broader category we created 2 functions,\n",
    "\n",
    "1) the \"contains\" function which will look at every category_name and see if there is a string match and 2) the \"category_cleaner\" function which will replace the value of the category_name with a given word if there is a match from the contains function."
   ]
  },
  {
   "cell_type": "code",
   "execution_count": null,
   "metadata": {},
   "outputs": [],
   "source": [
    "# Creating and cleaning the category names into broader categories\n",
    "\n",
    "def contains(string, match_list):\n",
    "    for match in match_list:\n",
    "        if match in string:\n",
    "            return True\n",
    "    return False\n",
    "\n",
    "def category_cleaner(value):\n",
    "    \"\"\"\n",
    "    To be applied to a dataframe column to clean\n",
    "    alchol categories so they are simpler.\n",
    "    \"\"\"\n",
    "    import pandas as pd\n",
    "    \n",
    "    if pd.isnull(value):\n",
    "        return value\n",
    "    elif contains(value, ['rum', 'rums']):\n",
    "        return 'rum'\n",
    "    elif contains(value, ['whiskies','whiskey', 'whisky', 'scotch', 'rye', 'bourbon', 'iowa distilleries']):\n",
    "        return 'whiskey'\n",
    "    elif contains(value, ['anisette', 'triple sec', 'amaretto', 'creme', 'cremes', 'creams', 'cream', 'cordials', 'cordial', 'liqueurs', 'liqueur']):\n",
    "        return 'cordials liqueurs'\n",
    "    elif contains(value, ['brandy','brandies']):\n",
    "        return 'brandy'\n",
    "    elif contains(value, ['tequila','tequilas', 'mezcal']):\n",
    "        return 'tequila'\n",
    "    elif contains(value, ['schnapps','schnapp']):\n",
    "        return 'schnapps'\n",
    "    elif contains(value, ['vodka','vodkas']):\n",
    "        return 'vodka'\n",
    "    elif contains(value, ['gin','gins']):\n",
    "        return 'gin'\n",
    "    elif contains(value, ['cocktails','cocktail']):\n",
    "        return 'cocktails'\n",
    "    elif contains(value, ['spirit','spirits']):\n",
    "        return 'spirits'\n",
    "    elif contains(value, ['american alcohol']):\n",
    "        return 'grain alcohol'\n",
    "    elif contains(value, ['decanters', 'decanter', 'packages']):\n",
    "        return 'accessories'\n",
    "    else:\n",
    "        return 'special orders'\n",
    "    \n",
    "liquor_cat['cat_name2'] = liquor_cat['category_name'].apply(category_cleaner)"
   ]
  },
  {
   "cell_type": "code",
   "execution_count": null,
   "metadata": {},
   "outputs": [],
   "source": [
    "liquor_cat['cat_name2'].value_counts()"
   ]
  },
  {
   "cell_type": "code",
   "execution_count": null,
   "metadata": {},
   "outputs": [],
   "source": [
    "liquor_cat.columns.tolist()"
   ]
  },
  {
   "cell_type": "code",
   "execution_count": null,
   "metadata": {},
   "outputs": [],
   "source": [
    "liquor_cat.shape"
   ]
  },
  {
   "cell_type": "code",
   "execution_count": null,
   "metadata": {},
   "outputs": [],
   "source": [
    "liquor_cat.head()"
   ]
  },
  {
   "cell_type": "code",
   "execution_count": null,
   "metadata": {},
   "outputs": [],
   "source": [
    "liquor_cat = liquor_cat.drop('category_name', axis=1)"
   ]
  },
  {
   "cell_type": "code",
   "execution_count": null,
   "metadata": {},
   "outputs": [],
   "source": [
    "liquor_cat = liquor_cat.rename(columns= {'store_name_y':'store_name2','cat_name2':'category_name2'})"
   ]
  },
  {
   "cell_type": "code",
   "execution_count": null,
   "metadata": {},
   "outputs": [],
   "source": [
    "liquor_cat.drop('category',axis=1,inplace=True)"
   ]
  },
  {
   "cell_type": "code",
   "execution_count": null,
   "metadata": {},
   "outputs": [],
   "source": [
    "liquor_cat.columns"
   ]
  },
  {
   "cell_type": "code",
   "execution_count": null,
   "metadata": {},
   "outputs": [],
   "source": [
    "# This is our original table with correct store names and saving to csv so we don't have to re-load\n",
    "liquor_cat.to_csv('./data/main_df2.csv.gz',index=False,compression='gzip')"
   ]
  },
  {
   "cell_type": "code",
   "execution_count": null,
   "metadata": {},
   "outputs": [],
   "source": []
  }
 ],
 "metadata": {
  "kernelspec": {
   "display_name": "Python 3",
   "language": "python",
   "name": "python3"
  },
  "language_info": {
   "codemirror_mode": {
    "name": "ipython",
    "version": 3
   },
   "file_extension": ".py",
   "mimetype": "text/x-python",
   "name": "python",
   "nbconvert_exporter": "python",
   "pygments_lexer": "ipython3",
   "version": "3.8.3"
  }
 },
 "nbformat": 4,
 "nbformat_minor": 4
}
