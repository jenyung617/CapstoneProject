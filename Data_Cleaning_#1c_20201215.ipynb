{
 "cells": [
  {
   "cell_type": "markdown",
   "metadata": {},
   "source": [
    "### Notebook - 1c (Filling in Category Missingness)"
   ]
  },
  {
   "cell_type": "code",
   "execution_count": 1,
   "metadata": {},
   "outputs": [],
   "source": [
    "# Import packages\n",
    "import pandas as pd\n",
    "import numpy as np\n",
    "import matplotlib.pyplot as plt\n",
    "import warnings\n",
    "warnings.filterwarnings('ignore')\n",
    "pd.set_option('display.max_columns',95)\n",
    "pd.set_option('display.max_rows',None)\n",
    "import pickle"
   ]
  },
  {
   "cell_type": "code",
   "execution_count": 2,
   "metadata": {},
   "outputs": [],
   "source": [
    "# Opening the pickled file\n",
    "f = open('df1.pkl', 'rb')\n",
    "df1 = pickle.load(f)\n",
    "f.close()"
   ]
  },
  {
   "cell_type": "markdown",
   "metadata": {},
   "source": [
    "### Category Cleaning\n",
    "In order to analyze liquor sales, attention must be given to how each liquor order has been categorized. Looking at the original data set, we see there are 133 unique category names which is too long a list to make sense of so we are going to re-classify the category_name into 13 simplified liquor categories (ie. rum, whiskey, gin, brandy, vodka, etc..) so we can have a clearer, more top-line overview of the types of liquor being ordered/sold."
   ]
  },
  {
   "cell_type": "code",
   "execution_count": 3,
   "metadata": {},
   "outputs": [
    {
     "name": "stdout",
     "output_type": "stream",
     "text": [
      "<class 'pandas.core.frame.DataFrame'>\n",
      "Int64Index: 20095649 entries, 0 to 20095648\n",
      "Data columns (total 11 columns):\n",
      " #   Column               Dtype         \n",
      "---  ------               -----         \n",
      " 0   invoice/item_number  category      \n",
      " 1   date                 datetime64[ns]\n",
      " 2   store_number         int64         \n",
      " 3   category             float64       \n",
      " 4   category_name        object        \n",
      " 5   item_number          category      \n",
      " 6   item_description     category      \n",
      " 7   bottles_sold         object        \n",
      " 8   sale_dollars         object        \n",
      " 9   volume_sold_liters   float16       \n",
      " 10  store_name           category      \n",
      "dtypes: category(4), datetime64[ns](1), float16(1), float64(1), int64(1), object(3)\n",
      "memory usage: 1.4+ GB\n"
     ]
    }
   ],
   "source": [
    "df1.info()"
   ]
  },
  {
   "cell_type": "code",
   "execution_count": 4,
   "metadata": {},
   "outputs": [],
   "source": [
    "#liquor_cat.loc[liquor_cat.category_name == 'NaN'] \n",
    "category_null = df1[df1['category_name'].isna()]"
   ]
  },
  {
   "cell_type": "code",
   "execution_count": null,
   "metadata": {},
   "outputs": [],
   "source": [
    "# Cleaning item_description so object is in all lower case letters \n",
    "category_null['item_description'] = category_null['item_description'].str.lower()"
   ]
  },
  {
   "cell_type": "code",
   "execution_count": null,
   "metadata": {},
   "outputs": [],
   "source": [
    "# Checking our datatypes\n",
    "category_null.info()"
   ]
  },
  {
   "cell_type": "code",
   "execution_count": null,
   "metadata": {},
   "outputs": [],
   "source": [
    "category_null.head() "
   ]
  },
  {
   "cell_type": "code",
   "execution_count": null,
   "metadata": {},
   "outputs": [],
   "source": [
    "# Replacing NaN with a blank string \n",
    "category_null.category_name = category_null.category_name.fillna('') "
   ]
  },
  {
   "cell_type": "code",
   "execution_count": null,
   "metadata": {},
   "outputs": [],
   "source": [
    "# Checking to see that the category_name is a blank cell (we will fill in with the correct category in the next cell)\n",
    "category_null.head()"
   ]
  },
  {
   "cell_type": "code",
   "execution_count": null,
   "metadata": {},
   "outputs": [],
   "source": [
    "# Creating and cleaning the category_name empty cells with a category description using item_description as a proxy\n",
    "\n",
    "def contains(string, match_list):\n",
    "    for match in match_list:\n",
    "        if match in string:\n",
    "            return True\n",
    "    return False\n",
    "\n",
    "def item_cleaner(value):\n",
    "    \"\"\"\n",
    "    To be applied to a dataframe column to clean\n",
    "    alcohol categories so they are simpler.\n",
    "    \"\"\"\n",
    "    import pandas as pd\n",
    "    \n",
    "    if contains(value, ['rum', 'rums', 'bacardi', 'cruzan', 'abuelo', 'morgan']):\n",
    "        return 'rum'\n",
    "    elif contains(value, ['whiskies','whiskey', 'whisky', 'scotch', 'rye', 'bourbon', 'iowa distilleries', 'fireball', 'mark', 'ha', 'medley', 'forester', 'jack', 'woodford']):\n",
    "        return 'whiskey'\n",
    "    elif contains(value, ['anisette', 'triple sec', 'amaretto', 'creme', 'cremes', 'creams', 'cream', 'cordials', 'cordial', 'liqueurs', 'liqueur', '99', 'marnier']):\n",
    "        return 'cordials liqueurs'\n",
    "    elif contains(value, ['brandy','brandies', 'cognac', 'coganc', 'hennessy']):\n",
    "        return 'brandy'\n",
    "    elif contains(value, ['tequila','tequilas', 'mezcal', 'hornitos', 'herradura']):\n",
    "        return 'tequila'\n",
    "    elif contains(value, ['schnapps','schnapp']):\n",
    "        return 'schnapps'\n",
    "    elif contains(value, ['vodka','vodkas','eddy', 'burnett\\'s', 'burnetts', 'wapsi', 'smirnoff', 'cane']):\n",
    "        return 'vodka'\n",
    "    elif contains(value, ['gin','gins']):\n",
    "        return 'gin'\n",
    "    elif contains(value, ['cocktails','cocktail']):\n",
    "        return 'cocktails'\n",
    "    elif contains(value, ['spirit','spirits']):\n",
    "        return 'spirits'\n",
    "    elif contains(value, ['american alcohol', 'everclear']):\n",
    "        return 'grain alcohol'\n",
    "    elif contains(value, ['decanters', 'decanter', 'packages', 'glasses', 'coaster', 'shot', '/flask', 'flask', 'w/glass']):\n",
    "        return 'accessories'\n",
    "    elif contains(value, ['egg', 'egg nog', 'eggnog', 'nog']):\n",
    "        return 'egg nog'\n",
    "    else:\n",
    "        return 'other'\n",
    "    \n",
    "category_null['category_name'] = category_null['item_description'].apply(item_cleaner)"
   ]
  },
  {
   "cell_type": "code",
   "execution_count": null,
   "metadata": {},
   "outputs": [],
   "source": [
    "# Checking to see if the category_name has a category (not empty)\n",
    "category_null.head()"
   ]
  },
  {
   "cell_type": "code",
   "execution_count": null,
   "metadata": {
    "scrolled": true
   },
   "outputs": [],
   "source": [
    "category_null.category_name.value_counts() "
   ]
  },
  {
   "cell_type": "code",
   "execution_count": null,
   "metadata": {},
   "outputs": [],
   "source": [
    "# Filling in missing values in df1 table's category_name column with empty string so we can replace\n",
    "df1.category_name = df1.category_name.fillna('')"
   ]
  },
  {
   "cell_type": "code",
   "execution_count": null,
   "metadata": {},
   "outputs": [],
   "source": [
    "# Dropping extra columns to simplify dataframe\n",
    "category_null.drop(columns = ['date', 'store_number', 'category', 'item_number', 'item_description','bottles_sold', \n",
    "                    'sale_dollars', 'volume_sold_liters','store_name'], axis = 1, inplace = True)"
   ]
  },
  {
   "cell_type": "code",
   "execution_count": null,
   "metadata": {},
   "outputs": [],
   "source": [
    "# Confirming columns dropped \n",
    "category_null.columns"
   ]
  },
  {
   "cell_type": "code",
   "execution_count": null,
   "metadata": {},
   "outputs": [],
   "source": [
    "# Replacing the empty cells in df1 with category_null category names\n",
    "df1.loc[df1['invoice/item_number'].isin(category_null['invoice/item_number']), ['category_name']] =category_null['category_name']"
   ]
  },
  {
   "cell_type": "code",
   "execution_count": null,
   "metadata": {
    "scrolled": true
   },
   "outputs": [],
   "source": [
    "# Checking the df1 table\n",
    "df1.loc[df1['invoice/item_number'].isin(category_null['invoice/item_number']), ['category_name']].head()"
   ]
  },
  {
   "cell_type": "code",
   "execution_count": null,
   "metadata": {},
   "outputs": [],
   "source": [
    "# Checking the category_null table (looks good)\n",
    "category_null.head()"
   ]
  },
  {
   "cell_type": "code",
   "execution_count": null,
   "metadata": {},
   "outputs": [],
   "source": [
    "# Test to see that the category_name is oorrect using invoice # S06688800087\n",
    "df1[df1['invoice/item_number'] == 'S06688800087']"
   ]
  },
  {
   "cell_type": "code",
   "execution_count": null,
   "metadata": {},
   "outputs": [],
   "source": [
    "# Cleaning category_name so object is in all lower case letters\n",
    "df1['category_name'] = df1['category_name'].str.lower()"
   ]
  },
  {
   "cell_type": "code",
   "execution_count": null,
   "metadata": {
    "scrolled": false
   },
   "outputs": [],
   "source": [
    "df1.head()"
   ]
  },
  {
   "cell_type": "code",
   "execution_count": null,
   "metadata": {},
   "outputs": [],
   "source": [
    "# Saving dataframe as 'df2'\n",
    "df2 = df1.copy()"
   ]
  },
  {
   "cell_type": "code",
   "execution_count": null,
   "metadata": {},
   "outputs": [],
   "source": [
    "f = open('df2.pkl', 'wb')\n",
    "pickle.dump(df2, f)\n",
    "f.close()"
   ]
  },
  {
   "cell_type": "code",
   "execution_count": null,
   "metadata": {},
   "outputs": [],
   "source": [
    "# next steps: re-classify below to get the corrected 'category_name' column\n",
    "# then create the egg nog column\n",
    "# then need the store closed column "
   ]
  },
  {
   "cell_type": "markdown",
   "metadata": {},
   "source": [
    "### Methodology for re-classifying liquor categories\n",
    "As mentioned above, there are 133 category_names, to bucket them into a broader category we created 2 functions,\n",
    "\n",
    "1) the \"contains\" function which will look at every category_name and see if there is a string match and 2) the \"category_cleaner\" function which will replace the value of the category_name with a given word if there is a match from the contains function."
   ]
  },
  {
   "cell_type": "code",
   "execution_count": null,
   "metadata": {},
   "outputs": [],
   "source": [
    "# Creating and cleaning the category names into broader categories\n",
    "\n",
    "def contains(string, match_list):\n",
    "    for match in match_list:\n",
    "        if match in string:\n",
    "            return True\n",
    "    return False\n",
    "\n",
    "def category_cleaner(value):\n",
    "    \"\"\"\n",
    "    To be applied to a dataframe column to clean\n",
    "    alchol categories so they are simpler.\n",
    "    \"\"\"\n",
    "    import pandas as pd\n",
    "    \n",
    "    if pd.isnull(value):\n",
    "        return value\n",
    "    elif contains(value, ['rum', 'rums']):\n",
    "        return 'rum'\n",
    "    elif contains(value, ['whiskies','whiskey', 'whisky', 'scotch', 'rye', 'bourbon', 'iowa distilleries']):\n",
    "        return 'whiskey'\n",
    "    elif contains(value, ['anisette', 'triple sec', 'amaretto', 'creme', 'cremes', 'creams', 'cream', 'cordials', 'cordial', 'liqueurs', 'liqueur']):\n",
    "        return 'cordials liqueurs'\n",
    "    elif contains(value, ['brandy','brandies']):\n",
    "        return 'brandy'\n",
    "    elif contains(value, ['tequila','tequilas', 'mezcal']):\n",
    "        return 'tequila'\n",
    "    elif contains(value, ['schnapps','schnapp']):\n",
    "        return 'schnapps'\n",
    "    elif contains(value, ['vodka','vodkas']):\n",
    "        return 'vodka'\n",
    "    elif contains(value, ['gin','gins']):\n",
    "        return 'gin'\n",
    "    elif contains(value, ['cocktails','cocktail']):\n",
    "        return 'cocktails'\n",
    "    elif contains(value, ['spirit','spirits']):\n",
    "        return 'spirits'\n",
    "    elif contains(value, ['american alcohol']):\n",
    "        return 'grain alcohol'\n",
    "    elif contains(value, ['decanters', 'decanter', 'packages']):\n",
    "        return 'accessories'\n",
    "    else:\n",
    "        return 'special orders'\n",
    "    \n",
    "liquor_cat['cat_name2'] = liquor_cat['category_name'].apply(category_cleaner)"
   ]
  },
  {
   "cell_type": "code",
   "execution_count": null,
   "metadata": {},
   "outputs": [],
   "source": [
    "liquor_cat['cat_name2'].value_counts()"
   ]
  },
  {
   "cell_type": "code",
   "execution_count": null,
   "metadata": {},
   "outputs": [],
   "source": [
    "liquor_cat.columns.tolist()"
   ]
  },
  {
   "cell_type": "code",
   "execution_count": null,
   "metadata": {},
   "outputs": [],
   "source": [
    "liquor_cat = liquor_cat.drop('category_name', axis=1)"
   ]
  },
  {
   "cell_type": "code",
   "execution_count": null,
   "metadata": {},
   "outputs": [],
   "source": [
    "liquor_cat = liquor_cat.rename(columns= {'store_name_y':'store_name2','cat_name2':'category_name2'})"
   ]
  },
  {
   "cell_type": "code",
   "execution_count": null,
   "metadata": {},
   "outputs": [],
   "source": [
    "liquor_cat.drop('category',axis=1,inplace=True)"
   ]
  },
  {
   "cell_type": "code",
   "execution_count": null,
   "metadata": {},
   "outputs": [],
   "source": [
    "liquor_cat.columns"
   ]
  },
  {
   "cell_type": "code",
   "execution_count": null,
   "metadata": {},
   "outputs": [],
   "source": [
    "# This is our original table with correct store names and saving to csv so we don't have to re-load\n",
    "liquor_cat.to_csv('./data/main_df2.csv.gz',index=False,compression='gzip')"
   ]
  }
 ],
 "metadata": {
  "kernelspec": {
   "display_name": "Python 3",
   "language": "python",
   "name": "python3"
  },
  "language_info": {
   "codemirror_mode": {
    "name": "ipython",
    "version": 3
   },
   "file_extension": ".py",
   "mimetype": "text/x-python",
   "name": "python",
   "nbconvert_exporter": "python",
   "pygments_lexer": "ipython3",
   "version": "3.8.3"
  }
 },
 "nbformat": 4,
 "nbformat_minor": 4
}
